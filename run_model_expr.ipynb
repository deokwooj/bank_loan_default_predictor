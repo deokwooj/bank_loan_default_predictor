{
 "cells": [
  {
   "cell_type": "code",
   "execution_count": 29,
   "id": "clear-gasoline",
   "metadata": {},
   "outputs": [
    {
     "name": "stdout",
     "output_type": "stream",
     "text": [
      "The autoreload extension is already loaded. To reload it, use:\n",
      "  %reload_ext autoreload\n"
     ]
    }
   ],
   "source": [
    "%load_ext autoreload\n",
    "%autoreload 2\n",
    "%matplotlib inline"
   ]
  },
  {
   "cell_type": "code",
   "execution_count": 30,
   "id": "micro-smile",
   "metadata": {},
   "outputs": [],
   "source": [
    "\"\"\"  Bank’s loan applicants synthetic dataset build a ML model that predicts whether an applicant would default or pay back the loan.\"\"\"\n",
    "\"\"\"\n",
    "Data Description:\n",
    "\n",
    "This dataset  is loan data. When a customer applies for a loan, banks and other credit providers use models to determine \n",
    "whether to grant the loan based on the likelihood of the loan being repaid. You must implement a model \n",
    "that predicts loan repayment or default based on the data provided.\n",
    "\n",
    "The dataset consists of synthetic data that is designed to exhibit similar characteristics to genuine loan data.\n",
    "Explore the dataset, do the necessary data analysis, and implement a ML model to determine the best way to predict \n",
    "whether a loan applicant will fully repay or default on a loan.\n",
    "\"\"\"\n",
    "\n",
    "\"\"\"\n",
    "Data Columns:\n",
    "\n",
    "The dataset consists of the following fields:\n",
    "\n",
    "• Loan ID: A unique Identifier for the loan information.\n",
    "\n",
    "• Customer ID: A unique identifier for the customer. Customers may have more than one loan.\n",
    "\n",
    "• Loan Status: A categorical variable indicating if the loan was paid back or defaulted. – Target variable\n",
    "\n",
    "• Current Loan Amount: This is the loan amount that was either completely paid off, or the amount that was defaulted.\n",
    "\n",
    "• Term: A categorical variable indicating if it is a short term or long term loan.\n",
    "\n",
    "• Credit Score: A value between 0 and 800 indicating the riskiness of the borrowers credit history.\n",
    "\n",
    "• Years in current job: A categorical variable indicating how many years the customer has been in their current job.\n",
    "\n",
    "• Home Ownership: Categorical variable indicating home ownership. Values are \"Rent\", \"Home Mortgage\", and \"Own\". \n",
    "   If the value is OWN, then the customer is a home owner with no mortgage\n",
    "\n",
    "• Annual Income: The customer's annual income\n",
    "\n",
    "• Purpose: A description of the purpose of the loan.\n",
    "\n",
    "• Monthly Debt: The customer's monthly payment for their existing loans\n",
    "\n",
    "• Years of Credit History: The years since the first entry in the customer’s credit history • \n",
    "   Months since last delinquent: Months since the last loan delinquent payment\n",
    "\n",
    "• Number of Open Accounts: The total number of open credit cards\n",
    "\n",
    "• Number of Credit Problems: The number of credit problems in the customer records.\n",
    "\n",
    "• Current Credit Balance: The current total debt for the customer\n",
    "\n",
    "• Maximum Open Credit: The maximum credit limit for all credit sources.\n",
    "\n",
    "• Bankruptcies: The number of bankruptcies\n",
    "\n",
    "• Tax Liens: The number of tax liens.\n",
    "\"\"\"\n",
    "\n",
    "def plot_cols(df, res_cols, cols, n_r, style='-', figname=None, figsize=None):\n",
    "    n_c = int(np.ceil(len(cols) / n_r))\n",
    "    fig, axes = plt.subplots(n_r, n_c, figsize=figsize)\n",
    "    fig.suptitle(figname)\n",
    "    for i, k in enumerate(cols):\n",
    "        ax = axes[i % n_r][i // n_r]\n",
    "        df[k].plot(ax=ax, style=style)\n",
    "        df[res_cols].plot(ax=ax, secondary_y=True, style='.')\n",
    "        ax.set_title(k, fontsize=8)\n",
    "        ax.set_xticks([])\n",
    "\n",
    "    return fig, axes\n",
    "\n",
    "\n",
    "df = pd.read_csv('Loan Granting Binary Classification.csv', thousands=',')\n",
    "df = df.dropna()"
   ]
  },
  {
   "cell_type": "code",
   "execution_count": 31,
   "id": "secondary-turkish",
   "metadata": {},
   "outputs": [
    {
     "name": "stdout",
     "output_type": "stream",
     "text": [
      "                                Loan ID                           Customer ID  \\\n",
      "0  6cf51492-02a2-423e-b93d-676f05b9ad53  7c202b37-2add-44e8-9aea-d5b119aea935   \n",
      "2  9b5e32b3-8d76-4801-afc8-d729d5a2e6b9  0a62fc41-16c8-40b5-92ff-9e4b763ce714   \n",
      "4  1450910f-9495-4fc9-afaf-9bdf4b9821df  70c26012-bba5-42c0-8dcb-75295ada31bb   \n",
      "\n",
      "   Loan Status  Current Loan Amount        Term  Credit Score  \\\n",
      "0  Charged Off                12232  Short Term        7280.0   \n",
      "2  Charged Off                16117  Short Term        7240.0   \n",
      "4  Charged Off                 9789   Long Term        6860.0   \n",
      "\n",
      "  Years in current job Home Ownership  Annual Income             Purpose  \\\n",
      "0             < 1 year           Rent        46643.0  Debt Consolidation   \n",
      "2              9 years  Home Mortgage        60438.0   Home Improvements   \n",
      "4            10+ years  Home Mortgage        47003.0   Home Improvements   \n",
      "\n",
      "   Monthly Debt  Years of Credit History  Months since last delinquent  \\\n",
      "0        777.39                     18.0                          10.0   \n",
      "2       1244.02                     16.7                          32.0   \n",
      "4        503.71                     16.7                          25.0   \n",
      "\n",
      "   Number of Open Accounts  Number of Credit Problems  Current Credit Balance  \\\n",
      "0                       12                          0                    6762   \n",
      "2                       11                          1                   11275   \n",
      "4                       13                          1                   16913   \n",
      "\n",
      "   Maximum Open Credit  Bankruptcies  Tax Liens  \n",
      "0                 7946           0.0        0.0  \n",
      "2                14815           1.0        0.0  \n",
      "4                19553           1.0        0.0  \n"
     ]
    }
   ],
   "source": [
    "print(df.head(3))"
   ]
  },
  {
   "cell_type": "code",
   "execution_count": 32,
   "id": "connected-asian",
   "metadata": {},
   "outputs": [
    {
     "name": "stdout",
     "output_type": "stream",
     "text": [
      "       Current Loan Amount  Credit Score  Annual Income  Monthly Debt  \\\n",
      "count         4.043100e+04  40431.000000   4.043100e+04  40431.000000   \n",
      "mean          1.346746e+07   1054.801415   7.704828e+04   1013.846042   \n",
      "std           3.411977e+07   1436.660451   4.921253e+04    636.626764   \n",
      "min           9.750000e+02    585.000000   5.855000e+03      0.000000   \n",
      "25%           8.675000e+03    702.000000   4.895500e+04    585.455000   \n",
      "50%           1.476600e+04    721.000000   6.633300e+04    899.870000   \n",
      "75%           2.463900e+04    738.000000   9.182700e+04   1303.480000   \n",
      "max           1.000000e+08   7510.000000   1.623105e+06  12055.680000   \n",
      "\n",
      "       Years of Credit History  Months since last delinquent  \\\n",
      "count             40431.000000                  40431.000000   \n",
      "mean                 19.061483                     34.871213   \n",
      "std                   6.635722                     21.899918   \n",
      "min                   3.800000                      0.000000   \n",
      "25%                  14.500000                     16.000000   \n",
      "50%                  17.700000                     32.000000   \n",
      "75%                  22.400000                     51.000000   \n",
      "max                  70.500000                    176.000000   \n",
      "\n",
      "       Number of Open Accounts  Number of Credit Problems  \\\n",
      "count             40431.000000               40431.000000   \n",
      "mean                 11.487720                   0.185007   \n",
      "std                   5.004677                   0.527318   \n",
      "min                   1.000000                   0.000000   \n",
      "25%                   8.000000                   0.000000   \n",
      "50%                  11.000000                   0.000000   \n",
      "75%                  14.000000                   0.000000   \n",
      "max                  48.000000                  15.000000   \n",
      "\n",
      "       Current Credit Balance  Maximum Open Credit  Bankruptcies     Tax Liens  \n",
      "count            40431.000000         4.043100e+04  40431.000000  40431.000000  \n",
      "mean             13849.406272         2.993009e+04      0.114763      0.038189  \n",
      "std              16480.066356         2.473581e+05      0.359236      0.297946  \n",
      "min                  0.000000         0.000000e+00      0.000000      0.000000  \n",
      "25%               5320.000000         1.126700e+04      0.000000      0.000000  \n",
      "50%               9838.000000         1.913300e+04      0.000000      0.000000  \n",
      "75%              17301.000000         3.196100e+04      0.000000      0.000000  \n",
      "max             386859.000000         3.628434e+07      7.000000     15.000000  \n"
     ]
    }
   ],
   "source": [
    "print(df.describe())"
   ]
  },
  {
   "cell_type": "code",
   "execution_count": 33,
   "id": "digital-check",
   "metadata": {},
   "outputs": [
    {
     "name": "stdout",
     "output_type": "stream",
     "text": [
      "Loan ID                         31926\n",
      "Customer ID                     31926\n",
      "Loan Status                         2\n",
      "Current Loan Amount             14541\n",
      "Term                                2\n",
      "Credit Score                      319\n",
      "Years in current job               11\n",
      "Home Ownership                      4\n",
      "Annual Income                   21868\n",
      "Purpose                            16\n",
      "Monthly Debt                    29143\n",
      "Years of Credit History           456\n",
      "Months since last delinquent      109\n",
      "Number of Open Accounts            46\n",
      "Number of Credit Problems          11\n",
      "Current Credit Balance          19367\n",
      "Maximum Open Credit             23456\n",
      "Bankruptcies                        8\n",
      "Tax Liens                          10\n",
      "dtype: int64\n"
     ]
    }
   ],
   "source": [
    "print(df.nunique())"
   ]
  },
  {
   "cell_type": "code",
   "execution_count": 34,
   "id": "aggressive-membership",
   "metadata": {},
   "outputs": [
    {
     "name": "stdout",
     "output_type": "stream",
     "text": [
      "Loan ID                          object\n",
      "Customer ID                      object\n",
      "Loan Status                      object\n",
      "Current Loan Amount               int64\n",
      "Term                             object\n",
      "Credit Score                    float64\n",
      "Years in current job             object\n",
      "Home Ownership                   object\n",
      "Annual Income                   float64\n",
      "Purpose                          object\n",
      "Monthly Debt                    float64\n",
      "Years of Credit History         float64\n",
      "Months since last delinquent    float64\n",
      "Number of Open Accounts           int64\n",
      "Number of Credit Problems         int64\n",
      "Current Credit Balance            int64\n",
      "Maximum Open Credit               int64\n",
      "Bankruptcies                    float64\n",
      "Tax Liens                       float64\n",
      "dtype: object\n"
     ]
    }
   ],
   "source": [
    "print(df.dtypes)"
   ]
  },
  {
   "cell_type": "code",
   "execution_count": 35,
   "id": "complete-civilization",
   "metadata": {},
   "outputs": [],
   "source": [
    "assert not df.isnull().values.any()"
   ]
  },
  {
   "cell_type": "code",
   "execution_count": 36,
   "id": "proved-brisbane",
   "metadata": {},
   "outputs": [
    {
     "name": "stdout",
     "output_type": "stream",
     "text": [
      "40431\n"
     ]
    }
   ],
   "source": [
    "res_cols = ['Loan Status']  # response output cols\n",
    "cat_cols = ['Term', 'Years in current job', 'Home Ownership', 'Purpose']\n",
    "num_cols = ['Current Loan Amount', 'Credit Score', 'Annual Income', 'Monthly Debt',\n",
    "            'Years of Credit History', 'Number of Open Accounts', 'Number of Credit Problems',\n",
    "            'Current Credit Balance', 'Maximum Open Credit', 'Bankruptcies', 'Tax Liens']\n",
    "input_cols = cat_cols + num_cols\n",
    "\n",
    "assert df['Loan ID'].nunique() == df['Customer ID'].nunique()\n",
    "print(df.shape[0])"
   ]
  },
  {
   "cell_type": "code",
   "execution_count": 37,
   "id": "altered-bachelor",
   "metadata": {},
   "outputs": [
    {
     "name": "stdout",
     "output_type": "stream",
     "text": [
      "--------------------\n",
      "categorical var\n",
      "--------------------\n",
      "Term\n",
      "Years in current job\n",
      "Home Ownership\n",
      "Purpose\n",
      "--------------------\n",
      "--------------------\n",
      "numerical var\n",
      "--------------------\n",
      "Current Loan Amount\n",
      "Credit Score\n",
      "Annual Income\n",
      "Monthly Debt\n",
      "Years of Credit History\n",
      "Number of Open Accounts\n",
      "Number of Credit Problems\n",
      "Current Credit Balance\n",
      "Maximum Open Credit\n",
      "Bankruptcies\n",
      "Tax Liens\n",
      "--------------------\n"
     ]
    }
   ],
   "source": [
    "print('-' * 20)\n",
    "print('categorical var')\n",
    "print('-' * 20)\n",
    "for col in cat_cols:\n",
    "    print(col)\n",
    "print('-' * 20)\n",
    "\n",
    "print('-' * 20)\n",
    "print('numerical var')\n",
    "print('-' * 20)\n",
    "for col in num_cols:\n",
    "    print(col)\n",
    "print('-' * 20)"
   ]
  },
  {
   "cell_type": "code",
   "execution_count": 39,
   "id": "skilled-carry",
   "metadata": {},
   "outputs": [
    {
     "name": "stdout",
     "output_type": "stream",
     "text": [
      "Term\n",
      "Years in current job\n",
      "Home Ownership\n",
      "Purpose\n",
      "Loan Status\n"
     ]
    }
   ],
   "source": [
    "##################################################################\n",
    "# Categorical Label encoding\n",
    "##################################################################\n",
    "from sklearn.preprocessing import LabelEncoder, OneHotEncoder\n",
    "trfm_dict = dict()\n",
    "for col in cat_cols + res_cols:\n",
    "    print(col)\n",
    "    le = LabelEncoder()\n",
    "    x = df[col].to_numpy().astype('str')\n",
    "    x = le.fit_transform(x)\n",
    "    df[col] = x\n",
    "    trfm_dict[col] = le"
   ]
  },
  {
   "cell_type": "code",
   "execution_count": 40,
   "id": "antique-decimal",
   "metadata": {},
   "outputs": [
    {
     "data": {
      "image/png": "[encoded data removed]",
      "text/plain": [
       "<Figure size 720x576 with 23 Axes>"
      ]
     },
     "metadata": {
      "needs_background": "light"
     },
     "output_type": "display_data"
    }
   ],
   "source": [
    "fig, axes = plot_cols(df, res_cols, num_cols, 4, figname='num_cols', figsize=(10, 8))"
   ]
  },
  {
   "cell_type": "code",
   "execution_count": 41,
   "id": "swiss-operation",
   "metadata": {},
   "outputs": [
    {
     "data": {
      "image/png": "[encoded data removed]",
      "text/plain": [
       "<Figure size 720x576 with 8 Axes>"
      ]
     },
     "metadata": {
      "needs_background": "light"
     },
     "output_type": "display_data"
    }
   ],
   "source": [
    "fig, axes = plot_cols(df, res_cols, cat_cols, 2, style='.', figname='num_cols', figsize=(10, 8))"
   ]
  },
  {
   "cell_type": "code",
   "execution_count": 42,
   "id": "animal-tender",
   "metadata": {},
   "outputs": [
    {
     "name": "stdout",
     "output_type": "stream",
     "text": [
      "====================================================================================================\n",
      "default_rate = 20.47% out of num_cases = 40431\n",
      "num_loan_app = 31926, num_cstm_app = 31926\n",
      "====================================================================================================\n"
     ]
    }
   ],
   "source": [
    "##################################################################\n",
    "# Numpy data array generation\n",
    "##################################################################\n",
    "# input numerical x\n",
    "x_num = df[num_cols].to_numpy()\n",
    "# input categorical x\n",
    "x_cat = df[cat_cols].to_numpy()\n",
    "# output response y\n",
    "# swap label 1 and 0 , now 1 indicate a default event\n",
    "y = df[res_cols].to_numpy()\n",
    "y = np.abs(1 - y)\n",
    "\n",
    "assert x_num.shape[0] == x_cat.shape[0] and y.shape[0] == x_cat.shape[0]\n",
    "default_rate = y.sum() / len(y)\n",
    "num_loan_app = df['Loan ID'].nunique()\n",
    "num_cstm_app = df['Customer ID'].nunique()\n",
    "num_cases = df.shape[0]\n",
    "print('=' * 100)\n",
    "print(f'default_rate = {100 * default_rate:.2f}% out of num_cases = {num_cases}')\n",
    "print(f'num_loan_app = {num_loan_app}, num_cstm_app = {num_cstm_app}')\n",
    "print('=' * 100)\n",
    "##################################################################"
   ]
  },
  {
   "cell_type": "code",
   "execution_count": 43,
   "id": "artistic-pencil",
   "metadata": {},
   "outputs": [],
   "source": [
    "##################################################################\n",
    "# Train/Validation/Test data generation\n",
    "##################################################################\n",
    "# [x_num, x_cat, y]\n",
    "# split data into train and test data\n",
    "train_test_split = 0.1\n",
    "from sklearn.model_selection import train_test_split\n",
    "\n",
    "x_num_idx = x_num.shape[1]\n",
    "X = np.hstack([x_num, x_cat])\n",
    "\n",
    "X_train, X_test, y_train, y_test = train_test_split(X, y, test_size=0.1, shuffle=True)"
   ]
  },
  {
   "cell_type": "code",
   "execution_count": 44,
   "id": "increasing-satisfaction",
   "metadata": {},
   "outputs": [
    {
     "name": "stdout",
     "output_type": "stream",
     "text": [
      "(36387, 15)\n",
      "(36387, 38)\n"
     ]
    }
   ],
   "source": [
    "##################################################################\n",
    "# Model Build\n",
    "##################################################################\n",
    "# Start to build model from here\n",
    "from sklearn.feature_selection import SelectKBest, VarianceThreshold\n",
    "from sklearn.feature_selection import f_regression\n",
    "from sklearn.ensemble import RandomForestRegressor\n",
    "\n",
    "from sklearn.neighbors import KNeighborsClassifier as KNN\n",
    "from sklearn.ensemble import IsolationForest\n",
    "from sklearn.metrics import accuracy_score, recall_score, precision_score, confusion_matrix\n",
    "from sklearn.preprocessing import StandardScaler, MinMaxScaler, Normalizer\n",
    "\n",
    "from preprocessor import Preprocessor\n",
    "from sklearn.utils import Bunch\n",
    "\n",
    "preproc_kwargs = Bunch(x_num_idx=x_num_idx, use_feature_sel=True,\n",
    "                       use_cat=True, use_hot_enc=True,\n",
    "                       var_threshold=1.e-3, kbest_p_val_threshold=1.e-3)\n",
    "preproc = Preprocessor(**preproc_kwargs)\n",
    "\n",
    "preproc.fit(X_train, y_train)\n",
    "print(X_train.shape)\n",
    "X_train = preproc.transform(X_train)\n",
    "print(X_train.shape)"
   ]
  },
  {
   "cell_type": "code",
   "execution_count": 46,
   "id": "minimal-evening",
   "metadata": {},
   "outputs": [
    {
     "name": "stdout",
     "output_type": "stream",
     "text": [
      "**************************************************\n",
      "KNN\n",
      "**************************************************\n"
     ]
    },
    {
     "data": {
      "text/plain": [
       "KNeighborsClassifier(leaf_size=50, n_jobs=-1, n_neighbors=10)"
      ]
     },
     "execution_count": 46,
     "metadata": {},
     "output_type": "execute_result"
    }
   ],
   "source": [
    "##################################################################\n",
    "# KNN model fit\n",
    "##################################################################\n",
    "print('*'*50)\n",
    "print('KNN')\n",
    "print('*'*50)\n",
    "knn_kwargs = Bunch(n_neighbors=10, weights='uniform', algorithm='auto', leaf_size=50, n_jobs=-1)\n",
    "knn = KNN(**knn_kwargs)\n",
    "knn.fit(X_train, y_train.flatten())"
   ]
  },
  {
   "cell_type": "code",
   "execution_count": 47,
   "id": "surprising-controversy",
   "metadata": {},
   "outputs": [
    {
     "name": "stdout",
     "output_type": "stream",
     "text": [
      "------------------------------\n",
      "accuracy :0.836, precision:0.893, recall: 0.253\n",
      "confusion matrix\n",
      "------------------------------\n",
      "[[3163   26]\n",
      " [ 639  216]]\n",
      "------------------------------\n"
     ]
    }
   ],
   "source": [
    "##################################################################\n",
    "# KNN model Evaluation\n",
    "##################################################################\n",
    "from eval import evaluate\n",
    "\n",
    "acc, prec, rec, conf_mat = evaluate(preproc, knn, X_test, y_test)"
   ]
  },
  {
   "cell_type": "code",
   "execution_count": 48,
   "id": "fixed-straight",
   "metadata": {},
   "outputs": [
    {
     "name": "stdout",
     "output_type": "stream",
     "text": [
      "**************************************************\n",
      "DecisionTreeClassifier\n",
      "**************************************************\n",
      "------------------------------\n",
      "accuracy :0.798, precision:0.525, recall: 0.460\n",
      "confusion matrix\n",
      "------------------------------\n",
      "[[2833  356]\n",
      " [ 462  393]]\n",
      "------------------------------\n"
     ]
    }
   ],
   "source": [
    "##################################################################\n",
    "# DecisionTreeClassifier\n",
    "##################################################################\n",
    "from sklearn.tree import DecisionTreeClassifier\n",
    "print('*'*50)\n",
    "print('DecisionTreeClassifier')\n",
    "print('*'*50)\n",
    "\n",
    "dt_kwargs = Bunch(criterion='gini', splitter='best')\n",
    "dt = DecisionTreeClassifier(**dt_kwargs)\n",
    "dt.fit(X_train, y_train.flatten())\n",
    "acc, prec, rec, conf_mat = evaluate(preproc, dt, X_test, y_test)"
   ]
  },
  {
   "cell_type": "code",
   "execution_count": 49,
   "id": "objective-puppy",
   "metadata": {},
   "outputs": [
    {
     "name": "stdout",
     "output_type": "stream",
     "text": [
      "**************************************************\n",
      "Logistic Regression Model\n",
      "**************************************************\n",
      "------------------------------\n",
      "accuracy :0.841, precision:0.995, recall: 0.248\n",
      "confusion matrix\n",
      "------------------------------\n",
      "[[3188    1]\n",
      " [ 643  212]]\n",
      "------------------------------\n"
     ]
    }
   ],
   "source": [
    "##################################################################\n",
    "# Logistic Regression Model\n",
    "##################################################################\n",
    "from sklearn.linear_model import LogisticRegression\n",
    "print('*'*50)\n",
    "print('Logistic Regression Model')\n",
    "print('*'*50)\n",
    "\n",
    "logi_kwargs = Bunch(penalty='l1', solver='liblinear')\n",
    "logi = LogisticRegression(**logi_kwargs)\n",
    "logi.fit(X_train, y_train.flatten())\n",
    "acc, prec, rec, conf_mat = evaluate(preproc, logi, X_test, y_test)"
   ]
  },
  {
   "cell_type": "code",
   "execution_count": 50,
   "id": "brown-vienna",
   "metadata": {},
   "outputs": [
    {
     "name": "stdout",
     "output_type": "stream",
     "text": [
      "**************************************************\n",
      "RandomForestClassifier\n",
      "**************************************************\n",
      "------------------------------\n",
      "accuracy :0.841, precision:0.945, recall: 0.262\n",
      "confusion matrix\n",
      "------------------------------\n",
      "[[3176   13]\n",
      " [ 631  224]]\n",
      "------------------------------\n"
     ]
    }
   ],
   "source": [
    "##################################################################\n",
    "# RandomForestClassifier Model\n",
    "##################################################################\n",
    "from sklearn.ensemble import RandomForestClassifier\n",
    "print('*'*50)\n",
    "print('RandomForestClassifier')\n",
    "print('*'*50)\n",
    "\n",
    "rforest_kwargs = Bunch(n_estimators=200, criterion='entropy', max_depth=50, n_jobs=-1)\n",
    "rforest = RandomForestClassifier(**rforest_kwargs)\n",
    "rforest.fit(X_train, y_train.flatten())\n",
    "acc, prec, rec, conf_mat = evaluate(preproc, rforest, X_test, y_test)"
   ]
  },
  {
   "cell_type": "code",
   "execution_count": 51,
   "id": "sitting-identity",
   "metadata": {},
   "outputs": [
    {
     "name": "stdout",
     "output_type": "stream",
     "text": [
      "**************************************************\n",
      "Ensemble\n",
      "**************************************************\n",
      "------------------------------\n",
      "accuracy :0.854, precision:1.000, recall: 0.273, auc: 0.715\n",
      "confusion matrix\n",
      "------------------------------\n",
      "[[3230    0]\n",
      " [ 592  222]]\n",
      "------------------------------\n"
     ]
    }
   ],
   "source": [
    "##################################################################\n",
    "# Ensemble Model\n",
    "##################################################################\n",
    "from ensemble import Ensemble\n",
    "print('*'*50)\n",
    "print('Ensemble')\n",
    "print('*'*50)\n",
    "\n",
    "ens_clf = Ensemble(prerpoc_kwargs=preproc_kwargs,\n",
    "                   knn_kwargs=knn_kwargs,\n",
    "                   dt_kwargs=dt_kwargs,\n",
    "                   logi_kwargs=logi_kwargs,\n",
    "                   rforest_kwargs=rforest_kwargs)\n",
    "\n",
    "X_train, X_test, y_train, y_test = train_test_split(X, y, test_size=0.1, shuffle=True)\n",
    "\n",
    "ens_clf.fit(X_train, y_train)\n",
    "ens_clf.evaluate(X_test, y_test)"
   ]
  },
  {
   "cell_type": "code",
   "execution_count": 54,
   "id": "monthly-highlight",
   "metadata": {},
   "outputs": [
    {
     "name": "stdout",
     "output_type": "stream",
     "text": [
      "**************************************************\n",
      "NN Embedding Dense Model\n",
      "**************************************************\n"
     ]
    }
   ],
   "source": [
    "############################################################\n",
    "# TensorFlow model\n",
    "############################################################\n",
    "X_train, X_test, y_train, y_test = train_test_split(X, y, test_size=0.1, shuffle=True)\n",
    "print('*'*50)\n",
    "print('NN Embedding Dense Model')\n",
    "print('*'*50)\n",
    "\n",
    "preproc_kwargs = Bunch(x_num_idx=x_num_idx, use_feature_sel=False,\n",
    "                       use_cat=True, use_hot_enc=False,\n",
    "                       var_threshold=1.e-3, kbest_p_val_threshold=1.e-3)\n",
    "\n",
    "from emb_dense import EmbDense\n",
    "emden= EmbDense(prerpoc_kwargs = preproc_kwargs,dense_cells=[16, 8, 4])"
   ]
  },
  {
   "cell_type": "code",
   "execution_count": 58,
   "id": "labeled-envelope",
   "metadata": {},
   "outputs": [
    {
     "name": "stdout",
     "output_type": "stream",
     "text": [
      "n_cat->4, n_num->11, n_dim->15\n",
      "(None, 1)\n",
      "(None, 5)\n",
      "(None, 2)\n",
      "(None, 8)\n",
      "Epoch 1/20\n",
      "910/910 [==============================] - 2s 1ms/step - loss: 0.4703 - accuracy: 0.8308 - val_loss: 0.3966 - val_accuracy: 0.8423\n",
      "Epoch 2/20\n",
      "910/910 [==============================] - 1s 840us/step - loss: 0.3875 - accuracy: 0.8467 - val_loss: 0.3917 - val_accuracy: 0.8425\n",
      "Epoch 3/20\n",
      "910/910 [==============================] - 1s 850us/step - loss: 0.3775 - accuracy: 0.8528 - val_loss: 0.3902 - val_accuracy: 0.8427\n",
      "Epoch 4/20\n",
      "910/910 [==============================] - 1s 860us/step - loss: 0.3776 - accuracy: 0.8514 - val_loss: 0.3901 - val_accuracy: 0.8427\n",
      "Epoch 5/20\n",
      "910/910 [==============================] - 1s 846us/step - loss: 0.3824 - accuracy: 0.8475 - val_loss: 0.3885 - val_accuracy: 0.8427\n",
      "Epoch 6/20\n",
      "910/910 [==============================] - 1s 861us/step - loss: 0.3823 - accuracy: 0.8462 - val_loss: 0.3887 - val_accuracy: 0.8427\n",
      "Epoch 7/20\n",
      "910/910 [==============================] - 1s 858us/step - loss: 0.3784 - accuracy: 0.8500 - val_loss: 0.3911 - val_accuracy: 0.8428\n",
      "Epoch 8/20\n",
      "910/910 [==============================] - 1s 870us/step - loss: 0.3773 - accuracy: 0.8501 - val_loss: 0.3887 - val_accuracy: 0.8430\n",
      "Epoch 9/20\n",
      "910/910 [==============================] - 1s 862us/step - loss: 0.3758 - accuracy: 0.8514 - val_loss: 0.3906 - val_accuracy: 0.8425\n",
      "Epoch 10/20\n",
      "910/910 [==============================] - 1s 871us/step - loss: 0.3797 - accuracy: 0.8477 - val_loss: 0.3905 - val_accuracy: 0.8427\n",
      "Epoch 11/20\n",
      "910/910 [==============================] - 1s 874us/step - loss: 0.3793 - accuracy: 0.8487 - val_loss: 0.3913 - val_accuracy: 0.8427\n",
      "Epoch 12/20\n",
      "910/910 [==============================] - 1s 872us/step - loss: 0.3806 - accuracy: 0.8469 - val_loss: 0.3913 - val_accuracy: 0.8427\n",
      "Epoch 13/20\n",
      "910/910 [==============================] - 1s 871us/step - loss: 0.3762 - accuracy: 0.8500 - val_loss: 0.3924 - val_accuracy: 0.8428\n",
      "Epoch 14/20\n",
      "910/910 [==============================] - 1s 875us/step - loss: 0.3724 - accuracy: 0.8519 - val_loss: 0.3905 - val_accuracy: 0.8421\n",
      "Epoch 15/20\n",
      "910/910 [==============================] - 1s 865us/step - loss: 0.3754 - accuracy: 0.8506 - val_loss: 0.3906 - val_accuracy: 0.8424\n",
      "Epoch 16/20\n",
      "910/910 [==============================] - 1s 898us/step - loss: 0.3681 - accuracy: 0.8548 - val_loss: 0.3912 - val_accuracy: 0.8427\n",
      "Epoch 17/20\n",
      "910/910 [==============================] - 1s 884us/step - loss: 0.3780 - accuracy: 0.8477 - val_loss: 0.3930 - val_accuracy: 0.8416\n",
      "Epoch 18/20\n",
      "910/910 [==============================] - 1s 874us/step - loss: 0.3703 - accuracy: 0.8537 - val_loss: 0.3911 - val_accuracy: 0.8417\n",
      "Epoch 19/20\n",
      "910/910 [==============================] - 1s 885us/step - loss: 0.3763 - accuracy: 0.8497 - val_loss: 0.3922 - val_accuracy: 0.8413\n",
      "Epoch 20/20\n",
      "910/910 [==============================] - 1s 880us/step - loss: 0.3739 - accuracy: 0.8510 - val_loss: 0.3909 - val_accuracy: 0.8427\n"
     ]
    }
   ],
   "source": [
    "emden.fit(X_train,y_train, epochs = 20, validation_split =0.2)"
   ]
  },
  {
   "cell_type": "code",
   "execution_count": 59,
   "id": "announced-token",
   "metadata": {},
   "outputs": [
    {
     "name": "stdout",
     "output_type": "stream",
     "text": [
      "Model: \"model_1\"\n",
      "__________________________________________________________________________________________________\n",
      "Layer (type)                    Output Shape         Param #     Connected to                     \n",
      "==================================================================================================\n",
      "model_input (InputLayer)        [(None, 15)]         0                                            \n",
      "__________________________________________________________________________________________________\n",
      "tf.__operators__.getitem_7 (Sli (None, 4)            0           model_input[0][0]                \n",
      "__________________________________________________________________________________________________\n",
      "tf.__operators__.getitem_8 (Sli (None, 1)            0           tf.__operators__.getitem_7[0][0] \n",
      "__________________________________________________________________________________________________\n",
      "tf.__operators__.getitem_9 (Sli (None, 1)            0           tf.__operators__.getitem_7[0][0] \n",
      "__________________________________________________________________________________________________\n",
      "tf.__operators__.getitem_10 (Sl (None, 1)            0           tf.__operators__.getitem_7[0][0] \n",
      "__________________________________________________________________________________________________\n",
      "tf.__operators__.getitem_11 (Sl (None, 1)            0           tf.__operators__.getitem_7[0][0] \n",
      "__________________________________________________________________________________________________\n",
      "emb_0 (Embedding)               (None, 1, 1)         2           tf.__operators__.getitem_8[0][0] \n",
      "__________________________________________________________________________________________________\n",
      "emb_1 (Embedding)               (None, 1, 5)         55          tf.__operators__.getitem_9[0][0] \n",
      "__________________________________________________________________________________________________\n",
      "emb_2 (Embedding)               (None, 1, 2)         8           tf.__operators__.getitem_10[0][0]\n",
      "__________________________________________________________________________________________________\n",
      "emb_3 (Embedding)               (None, 1, 8)         128         tf.__operators__.getitem_11[0][0]\n",
      "__________________________________________________________________________________________________\n",
      "flatten_4 (Flatten)             (None, 1)            0           emb_0[0][0]                      \n",
      "__________________________________________________________________________________________________\n",
      "flatten_5 (Flatten)             (None, 5)            0           emb_1[0][0]                      \n",
      "__________________________________________________________________________________________________\n",
      "flatten_6 (Flatten)             (None, 2)            0           emb_2[0][0]                      \n",
      "__________________________________________________________________________________________________\n",
      "flatten_7 (Flatten)             (None, 8)            0           emb_3[0][0]                      \n",
      "__________________________________________________________________________________________________\n",
      "tf.__operators__.getitem_6 (Sli (None, 11)           0           model_input[0][0]                \n",
      "__________________________________________________________________________________________________\n",
      "cat_emb_concat (Concatenate)    (None, 16)           0           flatten_4[0][0]                  \n",
      "                                                                 flatten_5[0][0]                  \n",
      "                                                                 flatten_6[0][0]                  \n",
      "                                                                 flatten_7[0][0]                  \n",
      "__________________________________________________________________________________________________\n",
      "num_cat_emb_concat (Concatenate (None, 27)           0           tf.__operators__.getitem_6[0][0] \n",
      "                                                                 cat_emb_concat[0][0]             \n",
      "__________________________________________________________________________________________________\n",
      "dense_4 (Dense)                 (None, 16)           448         num_cat_emb_concat[0][0]         \n",
      "__________________________________________________________________________________________________\n",
      "dense_5 (Dense)                 (None, 8)            136         dense_4[0][0]                    \n",
      "__________________________________________________________________________________________________\n",
      "dense_6 (Dense)                 (None, 4)            36          dense_5[0][0]                    \n",
      "__________________________________________________________________________________________________\n",
      "dense_7 (Dense)                 (None, 1)            5           dense_6[0][0]                    \n",
      "==================================================================================================\n",
      "Total params: 818\n",
      "Trainable params: 818\n",
      "Non-trainable params: 0\n",
      "__________________________________________________________________________________________________\n"
     ]
    }
   ],
   "source": [
    "emden.summary()"
   ]
  },
  {
   "cell_type": "code",
   "execution_count": 60,
   "id": "commercial-heater",
   "metadata": {},
   "outputs": [
    {
     "data": {
      "image/png": "[encoded data removed]",
      "text/plain": [
       "<Figure size 432x288 with 1 Axes>"
      ]
     },
     "metadata": {
      "needs_background": "light"
     },
     "output_type": "display_data"
    }
   ],
   "source": [
    "emden.plot_history()"
   ]
  },
  {
   "cell_type": "code",
   "execution_count": 61,
   "id": "figured-shield",
   "metadata": {},
   "outputs": [
    {
     "name": "stdout",
     "output_type": "stream",
     "text": [
      "------------------------------\n",
      "accuracy :0.850, precision:0.974, recall: 0.270, auc: 0.768\n",
      "confusion matrix\n",
      "------------------------------\n",
      "[[3213    6]\n",
      " [ 602  223]]\n",
      "------------------------------\n"
     ]
    }
   ],
   "source": [
    "emden.evaluate(X_test, y_test)"
   ]
  },
  {
   "cell_type": "code",
   "execution_count": null,
   "id": "challenging-wilson",
   "metadata": {},
   "outputs": [],
   "source": []
  }
 ],
 "metadata": {
  "kernelspec": {
   "display_name": "Python 3",
   "language": "python",
   "name": "python3"
  },
  "language_info": {
   "codemirror_mode": {
    "name": "ipython",
    "version": 3
   },
   "file_extension": ".py",
   "mimetype": "text/x-python",
   "name": "python",
   "nbconvert_exporter": "python",
   "pygments_lexer": "ipython3",
   "version": "3.7.10"
  }
 },
 "nbformat": 4,
 "nbformat_minor": 5
}
