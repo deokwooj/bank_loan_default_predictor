{
 "cells": [
  {
   "cell_type": "code",
   "execution_count": 1,
   "id": "clear-gasoline",
   "metadata": {},
   "outputs": [],
   "source": [
    "%load_ext autoreload\n",
    "%autoreload 2\n",
    "%matplotlib inline"
   ]
  },
  {
   "cell_type": "code",
   "execution_count": 2,
   "id": "8726d055-f646-4194-92a8-0fc122b52a25",
   "metadata": {},
   "outputs": [],
   "source": [
    "import pandas as pd\n",
    "import numpy as np\n",
    "from matplotlib import pyplot as plt"
   ]
  },
  {
   "cell_type": "code",
   "execution_count": 4,
   "id": "d6147f9f-73ca-47d7-96d5-597890df87f7",
   "metadata": {},
   "outputs": [],
   "source": [
    "\"\"\"  Bank’s loan applicants synthetic dataset build a ML model that predicts whether an applicant would default or pay back the loan.\"\"\"\n",
    "\"\"\"\n",
    "Data Description:\n",
    "\n",
    "This dataset  is loan data. When a customer applies for a loan, banks and other credit providers use models to determine \n",
    "whether to grant the loan based on the likelihood of the loan being repaid. You must implement a model \n",
    "that predicts loan repayment or default based on the data provided.\n",
    "\n",
    "The dataset consists of synthetic data that is designed to exhibit similar characteristics to genuine loan data.\n",
    "Explore the dataset, do the necessary data analysis, and implement a ML model to determine the best way to predict \n",
    "whether a loan applicant will fully repay or default on a loan.\n",
    "\"\"\"\n",
    "\n",
    "\"\"\"\n",
    "Data Columns:\n",
    "\n",
    "The dataset consists of the following fields:\n",
    "\n",
    "• Loan ID: A unique Identifier for the loan information.\n",
    "\n",
    "• Customer ID: A unique identifier for the customer. Customers may have more than one loan.\n",
    "\n",
    "• Loan Status: A categorical variable indicating if the loan was paid back or defaulted. – Target variable\n",
    "\n",
    "• Current Loan Amount: This is the loan amount that was either completely paid off, or the amount that was defaulted.\n",
    "\n",
    "• Term: A categorical variable indicating if it is a short term or long term loan.\n",
    "\n",
    "• Credit Score: A value between 0 and 800 indicating the riskiness of the borrowers credit history.\n",
    "\n",
    "• Years in current job: A categorical variable indicating how many years the customer has been in their current job.\n",
    "\n",
    "• Home Ownership: Categorical variable indicating home ownership. Values are \"Rent\", \"Home Mortgage\", and \"Own\". \n",
    "   If the value is OWN, then the customer is a home owner with no mortgage\n",
    "\n",
    "• Annual Income: The customer's annual income\n",
    "\n",
    "• Purpose: A description of the purpose of the loan.\n",
    "\n",
    "• Monthly Debt: The customer's monthly payment for their existing loans\n",
    "\n",
    "• Years of Credit History: The years since the first entry in the customer’s credit history • \n",
    "   Months since last delinquent: Months since the last loan delinquent payment\n",
    "\n",
    "• Number of Open Accounts: The total number of open credit cards\n",
    "\n",
    "• Number of Credit Problems: The number of credit problems in the customer records.\n",
    "\n",
    "• Current Credit Balance: The current total debt for the customer\n",
    "\n",
    "• Maximum Open Credit: The maximum credit limit for all credit sources.\n",
    "\n",
    "• Bankruptcies: The number of bankruptcies\n",
    "\n",
    "• Tax Liens: The number of tax liens.\n",
    "\"\"\"\n",
    "def plot_cols(df, res_cols, cols, n_r, style='-', figname=None, figsize=None):\n",
    "    n_c = int(np.ceil(len(cols) / n_r))\n",
    "    fig, axes = plt.subplots(n_r, n_c, figsize=figsize)\n",
    "    fig.suptitle(figname)\n",
    "    for i, k in enumerate(cols):\n",
    "        ax = axes[i % n_r][i // n_r]\n",
    "        df[k].plot(ax=ax, style=style)\n",
    "        df[res_cols].plot(ax=ax, secondary_y=True, style='.')\n",
    "        ax.set_title(k, fontsize=8)\n",
    "        ax.set_xticks([])\n",
    "\n",
    "    return fig, axes"
   ]
  },
  {
   "cell_type": "code",
   "execution_count": 111,
   "id": "209ea603-e61d-4147-b248-688bb2b31e73",
   "metadata": {},
   "outputs": [],
   "source": [
    "#df1 = pd.read_csv('Loan Granting Binary Classification.csv', delimiter=',')\n",
    "df = pd.read_csv('Loan Granting Binary Classification.csv', thousands=',')\n",
    "#df = df.dropna()\n",
    "\n",
    "\n",
    "#print(df.head(3))"
   ]
  },
  {
   "cell_type": "code",
   "execution_count": 112,
   "id": "5968b93c-7752-4521-83f7-6bcd0bec602b",
   "metadata": {},
   "outputs": [
    {
     "name": "stdout",
     "output_type": "stream",
     "text": [
      "----------------------------------------------------------------------------------------------------\n",
      "original copy\n",
      "----------------------------------------------------------------------------------------------------\n",
      "shape -->  (111105, 19)\n",
      "----------------------------------------------------------------------------------------------------\n",
      "Loan ID                          0.000000\n",
      "Customer ID                      0.000000\n",
      "Loan Status                      0.000000\n",
      "Current Loan Amount              0.000000\n",
      "Term                             0.000000\n",
      "Credit Score                    19.204356\n",
      "Years in current job             4.223932\n",
      "Home Ownership                   0.000000\n",
      "Annual Income                   19.204356\n",
      "Purpose                          0.000000\n",
      "Monthly Debt                     0.000000\n",
      "Years of Credit History          0.000000\n",
      "Months since last delinquent    53.105621\n",
      "Number of Open Accounts          0.000000\n",
      "Number of Credit Problems        0.000000\n",
      "Current Credit Balance           0.000000\n",
      "Maximum Open Credit              0.000000\n",
      "Bankruptcies                     0.205211\n",
      "Tax Liens                        0.009901\n",
      "dtype: float64\n",
      "----------------------------------------------------------------------------------------------------\n",
      "after removing na from the copy\n",
      "----------------------------------------------------------------------------------------------------\n",
      "shape -->  (40431, 19)\n",
      "----------------------------------------------------------------------------------------------------\n",
      "Loan ID                         0.0\n",
      "Customer ID                     0.0\n",
      "Loan Status                     0.0\n",
      "Current Loan Amount             0.0\n",
      "Term                            0.0\n",
      "Credit Score                    0.0\n",
      "Years in current job            0.0\n",
      "Home Ownership                  0.0\n",
      "Annual Income                   0.0\n",
      "Purpose                         0.0\n",
      "Monthly Debt                    0.0\n",
      "Years of Credit History         0.0\n",
      "Months since last delinquent    0.0\n",
      "Number of Open Accounts         0.0\n",
      "Number of Credit Problems       0.0\n",
      "Current Credit Balance          0.0\n",
      "Maximum Open Credit             0.0\n",
      "Bankruptcies                    0.0\n",
      "Tax Liens                       0.0\n",
      "dtype: float64\n"
     ]
    }
   ],
   "source": [
    "print(\"-\"*100)\n",
    "print(\"original copy\")\n",
    "print(\"-\"*100)\n",
    "print('shape --> ', df.shape)\n",
    "print(\"-\"*100)\n",
    "print(100*df.isna().astype(int).sum()/df.shape[0])\n",
    "print(\"-\"*100)\n",
    "print(\"after removing na from the copy\")\n",
    "print(\"-\"*100)\n",
    "df = df.dropna()\n",
    "print('shape --> ', df.shape)\n",
    "print(\"-\"*100)\n",
    "print(100*df.isna().astype(int).sum()/df.shape[0])\n",
    "#print(df1[['Monthly Debt']].head(4))\n",
    "#print(df2[['Monthly Debt']].head(4))\n",
    "#df2.loc[:3,'Monthly Debt']"
   ]
  },
  {
   "cell_type": "code",
   "execution_count": 113,
   "id": "connected-asian",
   "metadata": {},
   "outputs": [
    {
     "name": "stdout",
     "output_type": "stream",
     "text": [
      "       Current Loan Amount  Credit Score  Annual Income  Monthly Debt  \\\n",
      "count         4.043100e+04  40431.000000   4.043100e+04  40431.000000   \n",
      "mean          1.346746e+07   1054.801415   7.704828e+04   1013.846042   \n",
      "std           3.411977e+07   1436.660451   4.921253e+04    636.626764   \n",
      "min           9.750000e+02    585.000000   5.855000e+03      0.000000   \n",
      "25%           8.675000e+03    702.000000   4.895500e+04    585.455000   \n",
      "50%           1.476600e+04    721.000000   6.633300e+04    899.870000   \n",
      "75%           2.463900e+04    738.000000   9.182700e+04   1303.480000   \n",
      "max           1.000000e+08   7510.000000   1.623105e+06  12055.680000   \n",
      "\n",
      "       Years of Credit History  Months since last delinquent  \\\n",
      "count             40431.000000                  40431.000000   \n",
      "mean                 19.061483                     34.871213   \n",
      "std                   6.635722                     21.899918   \n",
      "min                   3.800000                      0.000000   \n",
      "25%                  14.500000                     16.000000   \n",
      "50%                  17.700000                     32.000000   \n",
      "75%                  22.400000                     51.000000   \n",
      "max                  70.500000                    176.000000   \n",
      "\n",
      "       Number of Open Accounts  Number of Credit Problems  \\\n",
      "count             40431.000000               40431.000000   \n",
      "mean                 11.487720                   0.185007   \n",
      "std                   5.004677                   0.527318   \n",
      "min                   1.000000                   0.000000   \n",
      "25%                   8.000000                   0.000000   \n",
      "50%                  11.000000                   0.000000   \n",
      "75%                  14.000000                   0.000000   \n",
      "max                  48.000000                  15.000000   \n",
      "\n",
      "       Current Credit Balance  Maximum Open Credit  Bankruptcies     Tax Liens  \n",
      "count            40431.000000         4.043100e+04  40431.000000  40431.000000  \n",
      "mean             13849.406272         2.993009e+04      0.114763      0.038189  \n",
      "std              16480.066356         2.473581e+05      0.359236      0.297946  \n",
      "min                  0.000000         0.000000e+00      0.000000      0.000000  \n",
      "25%               5320.000000         1.126700e+04      0.000000      0.000000  \n",
      "50%               9838.000000         1.913300e+04      0.000000      0.000000  \n",
      "75%              17301.000000         3.196100e+04      0.000000      0.000000  \n",
      "max             386859.000000         3.628434e+07      7.000000     15.000000  \n"
     ]
    }
   ],
   "source": [
    "print(df.describe())"
   ]
  },
  {
   "cell_type": "code",
   "execution_count": 114,
   "id": "digital-check",
   "metadata": {},
   "outputs": [
    {
     "name": "stdout",
     "output_type": "stream",
     "text": [
      "----------------------------------------------------------------------------------------------------\n",
      "Loan ID                         31926\n",
      "Customer ID                     31926\n",
      "Loan Status                         2\n",
      "Current Loan Amount             14541\n",
      "Term                                2\n",
      "Credit Score                      319\n",
      "Years in current job               11\n",
      "Home Ownership                      4\n",
      "Annual Income                   21868\n",
      "Purpose                            16\n",
      "Monthly Debt                    29143\n",
      "Years of Credit History           456\n",
      "Months since last delinquent      109\n",
      "Number of Open Accounts            46\n",
      "Number of Credit Problems          11\n",
      "Current Credit Balance          19367\n",
      "Maximum Open Credit             23456\n",
      "Bankruptcies                        8\n",
      "Tax Liens                          10\n",
      "dtype: int64\n",
      "----------------------------------------------------------------------------------------------------\n",
      "Loan ID                         78.964161\n",
      "Customer ID                     78.964161\n",
      "Loan Status                      0.004947\n",
      "Current Loan Amount             35.964977\n",
      "Term                             0.004947\n",
      "Credit Score                     0.788999\n",
      "Years in current job             0.027207\n",
      "Home Ownership                   0.009893\n",
      "Annual Income                   54.087210\n",
      "Purpose                          0.039574\n",
      "Monthly Debt                    72.080829\n",
      "Years of Credit History          1.127847\n",
      "Months since last delinquent     0.269595\n",
      "Number of Open Accounts          0.113774\n",
      "Number of Credit Problems        0.027207\n",
      "Current Credit Balance          47.901363\n",
      "Maximum Open Credit             58.014890\n",
      "Bankruptcies                     0.019787\n",
      "Tax Liens                        0.024733\n",
      "dtype: float64\n",
      "----------------------------------------------------------------------------------------------------\n",
      "        Loan Status        Term Home Ownership  Bankruptcies\n",
      "0       Charged Off  Short Term           Rent           0.0\n",
      "2       Charged Off  Short Term  Home Mortgage           1.0\n",
      "4       Charged Off   Long Term  Home Mortgage           1.0\n",
      "9       Charged Off   Long Term           Rent           0.0\n",
      "10      Charged Off   Long Term  Home Mortgage           0.0\n",
      "...             ...         ...            ...           ...\n",
      "111099   Fully Paid  Short Term           Rent           1.0\n",
      "111100   Fully Paid   Long Term           Rent           0.0\n",
      "111101   Fully Paid  Short Term  Home Mortgage           0.0\n",
      "111103   Fully Paid  Short Term  Home Mortgage           0.0\n",
      "111104   Fully Paid   Long Term       Own Home           0.0\n",
      "\n",
      "[40431 rows x 4 columns]\n",
      "----------------------------------------------------------------------------------------------------\n"
     ]
    }
   ],
   "source": [
    "print(\"-\"*100)\n",
    "print(df.nunique())\n",
    "print(\"-\"*100)\n",
    "print(100*df.nunique() /df.shape[0])\n",
    "print(\"-\"*100)\n",
    "print(df[df.columns[df.nunique() <10]])\n",
    "print(\"-\"*100)\n",
    "#print(df['Loan Status'])"
   ]
  },
  {
   "cell_type": "code",
   "execution_count": 115,
   "id": "aggressive-membership",
   "metadata": {},
   "outputs": [
    {
     "name": "stdout",
     "output_type": "stream",
     "text": [
      "Loan ID                          object\n",
      "Customer ID                      object\n",
      "Loan Status                      object\n",
      "Current Loan Amount               int64\n",
      "Term                             object\n",
      "Credit Score                    float64\n",
      "Years in current job             object\n",
      "Home Ownership                   object\n",
      "Annual Income                   float64\n",
      "Purpose                          object\n",
      "Monthly Debt                    float64\n",
      "Years of Credit History         float64\n",
      "Months since last delinquent    float64\n",
      "Number of Open Accounts           int64\n",
      "Number of Credit Problems         int64\n",
      "Current Credit Balance            int64\n",
      "Maximum Open Credit               int64\n",
      "Bankruptcies                    float64\n",
      "Tax Liens                       float64\n",
      "dtype: object\n"
     ]
    },
    {
     "data": {
      "text/html": [
       "<div>\n",
       "<style scoped>\n",
       "    .dataframe tbody tr th:only-of-type {\n",
       "        vertical-align: middle;\n",
       "    }\n",
       "\n",
       "    .dataframe tbody tr th {\n",
       "        vertical-align: top;\n",
       "    }\n",
       "\n",
       "    .dataframe thead th {\n",
       "        text-align: right;\n",
       "    }\n",
       "</style>\n",
       "<table border=\"1\" class=\"dataframe\">\n",
       "  <thead>\n",
       "    <tr style=\"text-align: right;\">\n",
       "      <th></th>\n",
       "      <th>Loan ID</th>\n",
       "      <th>Customer ID</th>\n",
       "      <th>Loan Status</th>\n",
       "      <th>Term</th>\n",
       "      <th>Years in current job</th>\n",
       "      <th>Home Ownership</th>\n",
       "      <th>Purpose</th>\n",
       "    </tr>\n",
       "  </thead>\n",
       "  <tbody>\n",
       "    <tr>\n",
       "      <th>0</th>\n",
       "      <td>6cf51492-02a2-423e-b93d-676f05b9ad53</td>\n",
       "      <td>7c202b37-2add-44e8-9aea-d5b119aea935</td>\n",
       "      <td>Charged Off</td>\n",
       "      <td>Short Term</td>\n",
       "      <td>&lt; 1 year</td>\n",
       "      <td>Rent</td>\n",
       "      <td>Debt Consolidation</td>\n",
       "    </tr>\n",
       "    <tr>\n",
       "      <th>2</th>\n",
       "      <td>9b5e32b3-8d76-4801-afc8-d729d5a2e6b9</td>\n",
       "      <td>0a62fc41-16c8-40b5-92ff-9e4b763ce714</td>\n",
       "      <td>Charged Off</td>\n",
       "      <td>Short Term</td>\n",
       "      <td>9 years</td>\n",
       "      <td>Home Mortgage</td>\n",
       "      <td>Home Improvements</td>\n",
       "    </tr>\n",
       "    <tr>\n",
       "      <th>4</th>\n",
       "      <td>1450910f-9495-4fc9-afaf-9bdf4b9821df</td>\n",
       "      <td>70c26012-bba5-42c0-8dcb-75295ada31bb</td>\n",
       "      <td>Charged Off</td>\n",
       "      <td>Long Term</td>\n",
       "      <td>10+ years</td>\n",
       "      <td>Home Mortgage</td>\n",
       "      <td>Home Improvements</td>\n",
       "    </tr>\n",
       "    <tr>\n",
       "      <th>9</th>\n",
       "      <td>35ee60ed-df2d-4d3a-98ba-03d944d65c74</td>\n",
       "      <td>93cbb4b9-4e88-4b93-8beb-a2a00d415cd5</td>\n",
       "      <td>Charged Off</td>\n",
       "      <td>Long Term</td>\n",
       "      <td>&lt; 1 year</td>\n",
       "      <td>Rent</td>\n",
       "      <td>Debt Consolidation</td>\n",
       "    </tr>\n",
       "    <tr>\n",
       "      <th>10</th>\n",
       "      <td>9634dd33-b16d-49f8-b9f6-2d9e1578798c</td>\n",
       "      <td>0d82eca5-ee60-4ebe-8387-54f1153a326f</td>\n",
       "      <td>Charged Off</td>\n",
       "      <td>Long Term</td>\n",
       "      <td>6 years</td>\n",
       "      <td>Home Mortgage</td>\n",
       "      <td>Debt Consolidation</td>\n",
       "    </tr>\n",
       "    <tr>\n",
       "      <th>...</th>\n",
       "      <td>...</td>\n",
       "      <td>...</td>\n",
       "      <td>...</td>\n",
       "      <td>...</td>\n",
       "      <td>...</td>\n",
       "      <td>...</td>\n",
       "      <td>...</td>\n",
       "    </tr>\n",
       "    <tr>\n",
       "      <th>111099</th>\n",
       "      <td>581d8a77-10e3-4343-bd3c-be20df9fa8b7</td>\n",
       "      <td>03cd7365-a09a-4981-b3a2-dff909e228ef</td>\n",
       "      <td>Fully Paid</td>\n",
       "      <td>Short Term</td>\n",
       "      <td>3 years</td>\n",
       "      <td>Rent</td>\n",
       "      <td>Debt Consolidation</td>\n",
       "    </tr>\n",
       "    <tr>\n",
       "      <th>111100</th>\n",
       "      <td>503f01e2-c3c4-4b10-886e-f15de57b6f1a</td>\n",
       "      <td>27a17610-1d8c-48a7-b0db-2d81a4fa099a</td>\n",
       "      <td>Fully Paid</td>\n",
       "      <td>Long Term</td>\n",
       "      <td>10+ years</td>\n",
       "      <td>Rent</td>\n",
       "      <td>Debt Consolidation</td>\n",
       "    </tr>\n",
       "    <tr>\n",
       "      <th>111101</th>\n",
       "      <td>8af53bc0-56a4-4801-a960-52a46a90b33f</td>\n",
       "      <td>c124ca71-f42a-47cc-8ec2-236f7e9868a5</td>\n",
       "      <td>Fully Paid</td>\n",
       "      <td>Short Term</td>\n",
       "      <td>10+ years</td>\n",
       "      <td>Home Mortgage</td>\n",
       "      <td>Debt Consolidation</td>\n",
       "    </tr>\n",
       "    <tr>\n",
       "      <th>111103</th>\n",
       "      <td>ec19166c-70c5-4d49-adb6-fb3fc15024a2</td>\n",
       "      <td>5723fbf2-1ce8-4752-8bee-1bebf339f278</td>\n",
       "      <td>Fully Paid</td>\n",
       "      <td>Short Term</td>\n",
       "      <td>10+ years</td>\n",
       "      <td>Home Mortgage</td>\n",
       "      <td>Debt Consolidation</td>\n",
       "    </tr>\n",
       "    <tr>\n",
       "      <th>111104</th>\n",
       "      <td>f83ae0e1-bd30-46c7-9f72-f4f9fe2f36ca</td>\n",
       "      <td>74187e35-39c2-4010-ae0d-8bcd0544189e</td>\n",
       "      <td>Fully Paid</td>\n",
       "      <td>Long Term</td>\n",
       "      <td>&lt; 1 year</td>\n",
       "      <td>Own Home</td>\n",
       "      <td>Debt Consolidation</td>\n",
       "    </tr>\n",
       "  </tbody>\n",
       "</table>\n",
       "<p>40431 rows × 7 columns</p>\n",
       "</div>"
      ],
      "text/plain": [
       "                                     Loan ID  \\\n",
       "0       6cf51492-02a2-423e-b93d-676f05b9ad53   \n",
       "2       9b5e32b3-8d76-4801-afc8-d729d5a2e6b9   \n",
       "4       1450910f-9495-4fc9-afaf-9bdf4b9821df   \n",
       "9       35ee60ed-df2d-4d3a-98ba-03d944d65c74   \n",
       "10      9634dd33-b16d-49f8-b9f6-2d9e1578798c   \n",
       "...                                      ...   \n",
       "111099  581d8a77-10e3-4343-bd3c-be20df9fa8b7   \n",
       "111100  503f01e2-c3c4-4b10-886e-f15de57b6f1a   \n",
       "111101  8af53bc0-56a4-4801-a960-52a46a90b33f   \n",
       "111103  ec19166c-70c5-4d49-adb6-fb3fc15024a2   \n",
       "111104  f83ae0e1-bd30-46c7-9f72-f4f9fe2f36ca   \n",
       "\n",
       "                                 Customer ID  Loan Status        Term  \\\n",
       "0       7c202b37-2add-44e8-9aea-d5b119aea935  Charged Off  Short Term   \n",
       "2       0a62fc41-16c8-40b5-92ff-9e4b763ce714  Charged Off  Short Term   \n",
       "4       70c26012-bba5-42c0-8dcb-75295ada31bb  Charged Off   Long Term   \n",
       "9       93cbb4b9-4e88-4b93-8beb-a2a00d415cd5  Charged Off   Long Term   \n",
       "10      0d82eca5-ee60-4ebe-8387-54f1153a326f  Charged Off   Long Term   \n",
       "...                                      ...          ...         ...   \n",
       "111099  03cd7365-a09a-4981-b3a2-dff909e228ef   Fully Paid  Short Term   \n",
       "111100  27a17610-1d8c-48a7-b0db-2d81a4fa099a   Fully Paid   Long Term   \n",
       "111101  c124ca71-f42a-47cc-8ec2-236f7e9868a5   Fully Paid  Short Term   \n",
       "111103  5723fbf2-1ce8-4752-8bee-1bebf339f278   Fully Paid  Short Term   \n",
       "111104  74187e35-39c2-4010-ae0d-8bcd0544189e   Fully Paid   Long Term   \n",
       "\n",
       "       Years in current job Home Ownership             Purpose  \n",
       "0                  < 1 year           Rent  Debt Consolidation  \n",
       "2                   9 years  Home Mortgage   Home Improvements  \n",
       "4                 10+ years  Home Mortgage   Home Improvements  \n",
       "9                  < 1 year           Rent  Debt Consolidation  \n",
       "10                  6 years  Home Mortgage  Debt Consolidation  \n",
       "...                     ...            ...                 ...  \n",
       "111099              3 years           Rent  Debt Consolidation  \n",
       "111100            10+ years           Rent  Debt Consolidation  \n",
       "111101            10+ years  Home Mortgage  Debt Consolidation  \n",
       "111103            10+ years  Home Mortgage  Debt Consolidation  \n",
       "111104             < 1 year       Own Home  Debt Consolidation  \n",
       "\n",
       "[40431 rows x 7 columns]"
      ]
     },
     "execution_count": 115,
     "metadata": {},
     "output_type": "execute_result"
    }
   ],
   "source": [
    "print(df.dtypes)\n",
    "df[df.columns[df.dtypes=='object']]"
   ]
  },
  {
   "cell_type": "code",
   "execution_count": 116,
   "id": "complete-civilization",
   "metadata": {},
   "outputs": [],
   "source": [
    "#df.isnull().values.any()\n",
    "assert not df.isnull().values.any()"
   ]
  },
  {
   "cell_type": "code",
   "execution_count": 117,
   "id": "proved-brisbane",
   "metadata": {},
   "outputs": [
    {
     "name": "stdout",
     "output_type": "stream",
     "text": [
      "40431\n"
     ]
    }
   ],
   "source": [
    "res_cols = ['Loan Status']  # response output cols\n",
    "cat_cols = ['Term', 'Years in current job', 'Home Ownership', 'Purpose']\n",
    "num_cols = ['Current Loan Amount', 'Credit Score', 'Annual Income', 'Monthly Debt',\n",
    "            'Years of Credit History', 'Number of Open Accounts', 'Number of Credit Problems',\n",
    "            'Current Credit Balance', 'Maximum Open Credit', 'Bankruptcies', 'Tax Liens']\n",
    "input_cols = cat_cols + num_cols\n",
    "\n",
    "assert df['Loan ID'].nunique() == df['Customer ID'].nunique()\n",
    "print(df.shape[0])"
   ]
  },
  {
   "cell_type": "code",
   "execution_count": 118,
   "id": "altered-bachelor",
   "metadata": {},
   "outputs": [
    {
     "name": "stdout",
     "output_type": "stream",
     "text": [
      "--------------------\n",
      "categorical var\n",
      "--------------------\n",
      "Term\n",
      "Years in current job\n",
      "Home Ownership\n",
      "Purpose\n",
      "--------------------\n",
      "--------------------\n",
      "numerical var\n",
      "--------------------\n",
      "Current Loan Amount\n",
      "Credit Score\n",
      "Annual Income\n",
      "Monthly Debt\n",
      "Years of Credit History\n",
      "Number of Open Accounts\n",
      "Number of Credit Problems\n",
      "Current Credit Balance\n",
      "Maximum Open Credit\n",
      "Bankruptcies\n",
      "Tax Liens\n",
      "--------------------\n"
     ]
    }
   ],
   "source": [
    "print('-' * 20)\n",
    "print('categorical var')\n",
    "print('-' * 20)\n",
    "for col in cat_cols:\n",
    "    print(col)\n",
    "print('-' * 20)\n",
    "\n",
    "print('-' * 20)\n",
    "print('numerical var')\n",
    "print('-' * 20)\n",
    "for col in num_cols:\n",
    "    print(col)\n",
    "print('-' * 20)"
   ]
  },
  {
   "cell_type": "code",
   "execution_count": 119,
   "id": "55d7d21f-fd48-4134-8182-ac6265c570de",
   "metadata": {},
   "outputs": [
    {
     "name": "stdout",
     "output_type": "stream",
     "text": [
      "['a', 'b', 'c', 'a', 'a', 'c'] -> by label encoding -> [0 1 2 0 0 2]\n",
      "------------------------------\n",
      "['a', 'b', 'c', 'a', 'a', 'c'] -> by one hot encoding ->\n",
      "------------------------------\n",
      "[[1. 0. 0.]\n",
      " [0. 1. 0.]\n",
      " [0. 0. 1.]\n",
      " [1. 0. 0.]\n",
      " [1. 0. 0.]\n",
      " [0. 0. 1.]]\n",
      "------------------------------\n"
     ]
    }
   ],
   "source": [
    "##################################################################\n",
    "# Categorical Label encoding\n",
    "##################################################################\n",
    "from sklearn.preprocessing import LabelEncoder, OneHotEncoder\n",
    "xx= ['a','b','c','a','a','c']\n",
    "le, ohe =  LabelEncoder(),OneHotEncoder(sparse_output=False)\n",
    "xx_le = le.fit_transform(xx)\n",
    "print(xx, '-> by label encoding ->', xx_le)\n",
    "\n",
    "xx_ohe= ohe.fit_transform(np.array(xx).reshape(-1,1))\n",
    "print(\"-\"*30)\n",
    "print(xx, '-> by one hot encoding ->')\n",
    "print(\"-\"*30)\n",
    "print(xx_ohe)\n",
    "print(\"-\"*30)\n"
   ]
  },
  {
   "cell_type": "code",
   "execution_count": 120,
   "id": "d7fcc69e-88e7-42d0-8b75-ceb0930ad8e2",
   "metadata": {},
   "outputs": [
    {
     "name": "stdout",
     "output_type": "stream",
     "text": [
      "Term\n",
      "['Short Term' 'Short Term' 'Long Term' ... 'Short Term' 'Short Term'\n",
      " 'Long Term']\n",
      "Years in current job\n",
      "['< 1 year' '9 years' '10+ years' ... '10+ years' '10+ years' '< 1 year']\n",
      "Home Ownership\n",
      "['Rent' 'Home Mortgage' 'Home Mortgage' ... 'Home Mortgage'\n",
      " 'Home Mortgage' 'Own Home']\n",
      "Purpose\n",
      "['Debt Consolidation' 'Home Improvements' 'Home Improvements' ...\n",
      " 'Debt Consolidation' 'Debt Consolidation' 'Debt Consolidation']\n",
      "Loan Status\n",
      "['Charged Off' 'Charged Off' 'Charged Off' ... 'Fully Paid' 'Fully Paid'\n",
      " 'Fully Paid']\n"
     ]
    }
   ],
   "source": [
    "trfm_dict = dict()\n",
    "for col in cat_cols + res_cols: # categorical input , response output\n",
    "    print(col)\n",
    "    le = LabelEncoder()\n",
    "    x = df[col].to_numpy().astype('str')\n",
    "    print(x)\n",
    "    x = le.fit_transform(x)\n",
    "    df[col] = x\n",
    "    trfm_dict[col] = le"
   ]
  },
  {
   "cell_type": "code",
   "execution_count": 123,
   "id": "f3fa8985-457c-43f1-be9d-6753c479855b",
   "metadata": {},
   "outputs": [
    {
     "name": "stdout",
     "output_type": "stream",
     "text": [
      "Term\n",
      "0    1\n",
      "2    1\n",
      "4    0\n",
      "9    0\n",
      "Name: Term, dtype: int64\n",
      "Years in current job\n",
      "0    10\n",
      "2     9\n",
      "4     1\n",
      "9    10\n",
      "Name: Years in current job, dtype: int64\n",
      "Home Ownership\n",
      "0    3\n",
      "2    1\n",
      "4    1\n",
      "9    3\n",
      "Name: Home Ownership, dtype: int64\n",
      "Purpose\n",
      "0    3\n",
      "2    5\n",
      "4    5\n",
      "9    3\n",
      "Name: Purpose, dtype: int64\n",
      "Loan Status\n",
      "0    0\n",
      "2    0\n",
      "4    0\n",
      "9    0\n",
      "Name: Loan Status, dtype: int64\n"
     ]
    }
   ],
   "source": [
    "trfm_dict = dict()\n",
    "for col in cat_cols + res_cols: # categorical input , response output\n",
    "    print(col)\n",
    "    print(df[col].head(4))\n"
   ]
  },
  {
   "cell_type": "code",
   "execution_count": 78,
   "id": "antique-decimal",
   "metadata": {},
   "outputs": [
    {
     "data": {
      "image/png": "[encoded data removed]",
      "text/plain": [
       "<Figure size 1000x800 with 23 Axes>"
      ]
     },
     "metadata": {},
     "output_type": "display_data"
    }
   ],
   "source": [
    "fig, axes = plot_cols(df, res_cols, num_cols, 4, figname='num_cols', figsize=(10, 8))"
   ]
  },
  {
   "cell_type": "code",
   "execution_count": 79,
   "id": "swiss-operation",
   "metadata": {},
   "outputs": [
    {
     "data": {
      "image/png": "[encoded data removed]",
      "text/plain": [
       "<Figure size 1000x800 with 8 Axes>"
      ]
     },
     "metadata": {},
     "output_type": "display_data"
    }
   ],
   "source": [
    "fig, axes = plot_cols(df, res_cols, cat_cols, 2, style='.', figname='num_cols', figsize=(10, 8))"
   ]
  },
  {
   "cell_type": "code",
   "execution_count": 80,
   "id": "animal-tender",
   "metadata": {},
   "outputs": [
    {
     "name": "stdout",
     "output_type": "stream",
     "text": [
      "====================================================================================================\n",
      "default_rate = 20.47% out of num_cases = 40431\n",
      "num_loan_app = 31926, num_cstm_app = 31926\n",
      "====================================================================================================\n"
     ]
    }
   ],
   "source": [
    "##################################################################\n",
    "# Numpy data array generation\n",
    "##################################################################\n",
    "# input numerical x\n",
    "x_num = df[num_cols].to_numpy()\n",
    "# input categorical x\n",
    "x_cat = df[cat_cols].to_numpy()\n",
    "# output response y\n",
    "# swap label 1 and 0 , now 1 indicate a default event\n",
    "y = df[res_cols].to_numpy()\n",
    "y = np.abs(1 - y)\n",
    "\n",
    "assert x_num.shape[0] == x_cat.shape[0] and y.shape[0] == x_cat.shape[0]\n",
    "default_rate = y.sum() / len(y)\n",
    "num_loan_app = df['Loan ID'].nunique()\n",
    "num_cstm_app = df['Customer ID'].nunique()\n",
    "num_cases = df.shape[0]\n",
    "print('=' * 100)\n",
    "print(f'default_rate = {100 * default_rate:.2f}% out of num_cases = {num_cases}')\n",
    "print(f'num_loan_app = {num_loan_app}, num_cstm_app = {num_cstm_app}')\n",
    "print('=' * 100)\n",
    "##################################################################"
   ]
  },
  {
   "cell_type": "code",
   "execution_count": 81,
   "id": "artistic-pencil",
   "metadata": {},
   "outputs": [],
   "source": [
    "##################################################################\n",
    "# Train/Validation/Test data generation\n",
    "##################################################################\n",
    "# [x_num, x_cat, y]\n",
    "# split data into train and test data\n",
    "train_test_split = 0.1\n",
    "from sklearn.model_selection import train_test_split\n",
    "\n",
    "x_num_idx = x_num.shape[1]\n",
    "X = np.hstack([x_num, x_cat])\n",
    "\n",
    "X_train, X_test, y_train, y_test = train_test_split(X, y, test_size=0.1, shuffle=True)"
   ]
  },
  {
   "cell_type": "code",
   "execution_count": 86,
   "id": "76d2302b-8393-43b5-ba1a-a42f26977508",
   "metadata": {},
   "outputs": [],
   "source": [
    "##################################################################\n",
    "# Model Build\n",
    "##################################################################\n",
    "# Start to build model from here\n",
    "from sklearn.feature_selection import SelectKBest, VarianceThreshold\n",
    "from sklearn.feature_selection import f_regression\n",
    "from sklearn.ensemble import RandomForestRegressor\n",
    "\n",
    "from sklearn.neighbors import KNeighborsClassifier as KNN\n",
    "from sklearn.ensemble import IsolationForest\n",
    "from sklearn.metrics import accuracy_score, recall_score, precision_score, confusion_matrix\n",
    "from sklearn.preprocessing import StandardScaler, MinMaxScaler, Normalizer\n",
    "\n",
    "from preprocessor import Preprocessor\n",
    "from sklearn.utils import Bunch\n",
    "\n",
    "preproc_kwargs = Bunch(x_num_idx=x_num_idx, use_feature_sel=True,\n",
    "                       use_cat=True, use_hot_enc=True,\n",
    "                       var_threshold=1.e-3, kbest_p_val_threshold=1.e-3)"
   ]
  },
  {
   "cell_type": "code",
   "execution_count": 97,
   "id": "914c44e1-ad83-48ab-b923-c5a3e97e6219",
   "metadata": {},
   "outputs": [
    {
     "name": "stdout",
     "output_type": "stream",
     "text": [
      "(4044, 15)\n",
      "(36387, 15)\n",
      "(36387, 15)\n"
     ]
    },
    {
     "ename": "ValueError",
     "evalue": "all the input arrays must have same number of dimensions, but the array at index 0 has 2 dimension(s) and the array at index 1 has 1 dimension(s)",
     "output_type": "error",
     "traceback": [
      "\u001b[0;31m---------------------------------------------------------------------------\u001b[0m",
      "\u001b[0;31mValueError\u001b[0m                                Traceback (most recent call last)",
      "Cell \u001b[0;32mIn[97], line 6\u001b[0m\n\u001b[1;32m      4\u001b[0m preproc\u001b[38;5;241m.\u001b[39mfit(X_train, y_train)\n\u001b[1;32m      5\u001b[0m \u001b[38;5;28mprint\u001b[39m(X_train\u001b[38;5;241m.\u001b[39mshape)\n\u001b[0;32m----> 6\u001b[0m X_train \u001b[38;5;241m=\u001b[39m \u001b[43mpreproc\u001b[49m\u001b[38;5;241;43m.\u001b[39;49m\u001b[43mtransform\u001b[49m\u001b[43m(\u001b[49m\u001b[43mX_train\u001b[49m\u001b[43m)\u001b[49m\n",
      "File \u001b[0;32m~/Library/CloudStorage/Dropbox/my_proj/ml_interview_code/bank_loan_default_predictor/preprocessor.py:66\u001b[0m, in \u001b[0;36mPreprocessor.transform\u001b[0;34m(self, X)\u001b[0m\n\u001b[1;32m     64\u001b[0m     \u001b[38;5;28;01mif\u001b[39;00m \u001b[38;5;28mself\u001b[39m\u001b[38;5;241m.\u001b[39muse_hot_enc:\n\u001b[1;32m     65\u001b[0m         X_cat \u001b[38;5;241m=\u001b[39m \u001b[38;5;28mself\u001b[39m\u001b[38;5;241m.\u001b[39mcat_he\u001b[38;5;241m.\u001b[39mtransform(X_cat)\n\u001b[0;32m---> 66\u001b[0m     X_num_cat \u001b[38;5;241m=\u001b[39m \u001b[43mnp\u001b[49m\u001b[38;5;241;43m.\u001b[39;49m\u001b[43mhstack\u001b[49m\u001b[43m(\u001b[49m\u001b[43m[\u001b[49m\u001b[43mX_num\u001b[49m\u001b[43m,\u001b[49m\u001b[43m \u001b[49m\u001b[43mX_cat\u001b[49m\u001b[43m]\u001b[49m\u001b[43m)\u001b[49m\n\u001b[1;32m     67\u001b[0m     \u001b[38;5;28;01mreturn\u001b[39;00m X_num_cat\n\u001b[1;32m     68\u001b[0m \u001b[38;5;28;01melse\u001b[39;00m:\n",
      "File \u001b[0;32m~/code/aibridge/apple_silicon_mlbase/.venv/lib/python3.9/site-packages/numpy/core/shape_base.py:359\u001b[0m, in \u001b[0;36mhstack\u001b[0;34m(tup, dtype, casting)\u001b[0m\n\u001b[1;32m    357\u001b[0m     \u001b[38;5;28;01mreturn\u001b[39;00m _nx\u001b[38;5;241m.\u001b[39mconcatenate(arrs, \u001b[38;5;241m0\u001b[39m, dtype\u001b[38;5;241m=\u001b[39mdtype, casting\u001b[38;5;241m=\u001b[39mcasting)\n\u001b[1;32m    358\u001b[0m \u001b[38;5;28;01melse\u001b[39;00m:\n\u001b[0;32m--> 359\u001b[0m     \u001b[38;5;28;01mreturn\u001b[39;00m \u001b[43m_nx\u001b[49m\u001b[38;5;241;43m.\u001b[39;49m\u001b[43mconcatenate\u001b[49m\u001b[43m(\u001b[49m\u001b[43marrs\u001b[49m\u001b[43m,\u001b[49m\u001b[43m \u001b[49m\u001b[38;5;241;43m1\u001b[39;49m\u001b[43m,\u001b[49m\u001b[43m \u001b[49m\u001b[43mdtype\u001b[49m\u001b[38;5;241;43m=\u001b[39;49m\u001b[43mdtype\u001b[49m\u001b[43m,\u001b[49m\u001b[43m \u001b[49m\u001b[43mcasting\u001b[49m\u001b[38;5;241;43m=\u001b[39;49m\u001b[43mcasting\u001b[49m\u001b[43m)\u001b[49m\n",
      "\u001b[0;31mValueError\u001b[0m: all the input arrays must have same number of dimensions, but the array at index 0 has 2 dimension(s) and the array at index 1 has 1 dimension(s)"
     ]
    }
   ],
   "source": [
    "preproc = Preprocessor(**preproc_kwargs)\n",
    "print(X_test.shape)\n",
    "print(X_train.shape)\n",
    "preproc.fit(X_train, y_train)\n",
    "print(X_train.shape)\n",
    "X_train = preproc.transform(X_train)"
   ]
  },
  {
   "cell_type": "code",
   "execution_count": 87,
   "id": "e74aa8c9-f65e-46c5-9d73-240c869b37f8",
   "metadata": {},
   "outputs": [
    {
     "name": "stdout",
     "output_type": "stream",
     "text": [
      "(36387, 15)\n"
     ]
    },
    {
     "ename": "ValueError",
     "evalue": "all the input arrays must have same number of dimensions, but the array at index 0 has 2 dimension(s) and the array at index 1 has 1 dimension(s)",
     "output_type": "error",
     "traceback": [
      "\u001b[0;31m---------------------------------------------------------------------------\u001b[0m",
      "\u001b[0;31mValueError\u001b[0m                                Traceback (most recent call last)",
      "Cell \u001b[0;32mIn[87], line 5\u001b[0m\n\u001b[1;32m      3\u001b[0m preproc\u001b[38;5;241m.\u001b[39mfit(X_train, y_train)\n\u001b[1;32m      4\u001b[0m \u001b[38;5;28mprint\u001b[39m(X_train\u001b[38;5;241m.\u001b[39mshape)\n\u001b[0;32m----> 5\u001b[0m X_train \u001b[38;5;241m=\u001b[39m \u001b[43mpreproc\u001b[49m\u001b[38;5;241;43m.\u001b[39;49m\u001b[43mtransform\u001b[49m\u001b[43m(\u001b[49m\u001b[43mX_train\u001b[49m\u001b[43m)\u001b[49m\n\u001b[1;32m      6\u001b[0m \u001b[38;5;28mprint\u001b[39m(X_train\u001b[38;5;241m.\u001b[39mshape)\n",
      "File \u001b[0;32m~/Library/CloudStorage/Dropbox/my_proj/ml_interview_code/bank_loan_default_predictor/preprocessor.py:66\u001b[0m, in \u001b[0;36mPreprocessor.transform\u001b[0;34m(self, X)\u001b[0m\n\u001b[1;32m     64\u001b[0m     \u001b[38;5;28;01mif\u001b[39;00m \u001b[38;5;28mself\u001b[39m\u001b[38;5;241m.\u001b[39muse_hot_enc:\n\u001b[1;32m     65\u001b[0m         X_cat \u001b[38;5;241m=\u001b[39m \u001b[38;5;28mself\u001b[39m\u001b[38;5;241m.\u001b[39mcat_he\u001b[38;5;241m.\u001b[39mtransform(X_cat)\n\u001b[0;32m---> 66\u001b[0m     X_num_cat \u001b[38;5;241m=\u001b[39m \u001b[43mnp\u001b[49m\u001b[38;5;241;43m.\u001b[39;49m\u001b[43mhstack\u001b[49m\u001b[43m(\u001b[49m\u001b[43m[\u001b[49m\u001b[43mX_num\u001b[49m\u001b[43m,\u001b[49m\u001b[43m \u001b[49m\u001b[43mX_cat\u001b[49m\u001b[43m]\u001b[49m\u001b[43m)\u001b[49m\n\u001b[1;32m     67\u001b[0m     \u001b[38;5;28;01mreturn\u001b[39;00m X_num_cat\n\u001b[1;32m     68\u001b[0m \u001b[38;5;28;01melse\u001b[39;00m:\n",
      "File \u001b[0;32m~/code/aibridge/apple_silicon_mlbase/.venv/lib/python3.9/site-packages/numpy/core/shape_base.py:359\u001b[0m, in \u001b[0;36mhstack\u001b[0;34m(tup, dtype, casting)\u001b[0m\n\u001b[1;32m    357\u001b[0m     \u001b[38;5;28;01mreturn\u001b[39;00m _nx\u001b[38;5;241m.\u001b[39mconcatenate(arrs, \u001b[38;5;241m0\u001b[39m, dtype\u001b[38;5;241m=\u001b[39mdtype, casting\u001b[38;5;241m=\u001b[39mcasting)\n\u001b[1;32m    358\u001b[0m \u001b[38;5;28;01melse\u001b[39;00m:\n\u001b[0;32m--> 359\u001b[0m     \u001b[38;5;28;01mreturn\u001b[39;00m \u001b[43m_nx\u001b[49m\u001b[38;5;241;43m.\u001b[39;49m\u001b[43mconcatenate\u001b[49m\u001b[43m(\u001b[49m\u001b[43marrs\u001b[49m\u001b[43m,\u001b[49m\u001b[43m \u001b[49m\u001b[38;5;241;43m1\u001b[39;49m\u001b[43m,\u001b[49m\u001b[43m \u001b[49m\u001b[43mdtype\u001b[49m\u001b[38;5;241;43m=\u001b[39;49m\u001b[43mdtype\u001b[49m\u001b[43m,\u001b[49m\u001b[43m \u001b[49m\u001b[43mcasting\u001b[49m\u001b[38;5;241;43m=\u001b[39;49m\u001b[43mcasting\u001b[49m\u001b[43m)\u001b[49m\n",
      "\u001b[0;31mValueError\u001b[0m: all the input arrays must have same number of dimensions, but the array at index 0 has 2 dimension(s) and the array at index 1 has 1 dimension(s)"
     ]
    }
   ],
   "source": [
    "preproc = Preprocessor(**preproc_kwargs)\n",
    "\n",
    "preproc.fit(X_train, y_train)\n",
    "print(X_train.shape)\n",
    "X_train = preproc.transform(X_train)\n",
    "print(X_train.shape)"
   ]
  },
  {
   "cell_type": "code",
   "execution_count": null,
   "id": "ec0b407e-9bff-4242-978f-04a4f57420ea",
   "metadata": {},
   "outputs": [],
   "source": []
  },
  {
   "cell_type": "code",
   "execution_count": null,
   "id": "de28ef95-0767-4e14-926f-cb50b10b88e9",
   "metadata": {},
   "outputs": [],
   "source": []
  },
  {
   "cell_type": "code",
   "execution_count": null,
   "id": "c45c9d8f-f9b5-4d76-b3cb-c3061bf78765",
   "metadata": {},
   "outputs": [],
   "source": []
  },
  {
   "cell_type": "code",
   "execution_count": 46,
   "id": "minimal-evening",
   "metadata": {},
   "outputs": [
    {
     "name": "stdout",
     "output_type": "stream",
     "text": [
      "**************************************************\n",
      "KNN\n",
      "**************************************************\n"
     ]
    },
    {
     "data": {
      "text/plain": [
       "KNeighborsClassifier(leaf_size=50, n_jobs=-1, n_neighbors=10)"
      ]
     },
     "execution_count": 46,
     "metadata": {},
     "output_type": "execute_result"
    }
   ],
   "source": [
    "##################################################################\n",
    "# KNN model fit\n",
    "##################################################################\n",
    "print('*'*50)\n",
    "print('KNN')\n",
    "print('*'*50)\n",
    "knn_kwargs = Bunch(n_neighbors=10, weights='uniform', algorithm='auto', leaf_size=50, n_jobs=-1)\n",
    "knn = KNN(**knn_kwargs)\n",
    "knn.fit(X_train, y_train.flatten())"
   ]
  },
  {
   "cell_type": "code",
   "execution_count": 47,
   "id": "surprising-controversy",
   "metadata": {},
   "outputs": [
    {
     "name": "stdout",
     "output_type": "stream",
     "text": [
      "------------------------------\n",
      "accuracy :0.836, precision:0.893, recall: 0.253\n",
      "confusion matrix\n",
      "------------------------------\n",
      "[[3163   26]\n",
      " [ 639  216]]\n",
      "------------------------------\n"
     ]
    }
   ],
   "source": [
    "##################################################################\n",
    "# KNN model Evaluation\n",
    "##################################################################\n",
    "from eval import evaluate\n",
    "\n",
    "acc, prec, rec, conf_mat = evaluate(preproc, knn, X_test, y_test)"
   ]
  },
  {
   "cell_type": "code",
   "execution_count": 48,
   "id": "fixed-straight",
   "metadata": {},
   "outputs": [
    {
     "name": "stdout",
     "output_type": "stream",
     "text": [
      "**************************************************\n",
      "DecisionTreeClassifier\n",
      "**************************************************\n",
      "------------------------------\n",
      "accuracy :0.798, precision:0.525, recall: 0.460\n",
      "confusion matrix\n",
      "------------------------------\n",
      "[[2833  356]\n",
      " [ 462  393]]\n",
      "------------------------------\n"
     ]
    }
   ],
   "source": [
    "##################################################################\n",
    "# DecisionTreeClassifier\n",
    "##################################################################\n",
    "from sklearn.tree import DecisionTreeClassifier\n",
    "print('*'*50)\n",
    "print('DecisionTreeClassifier')\n",
    "print('*'*50)\n",
    "\n",
    "dt_kwargs = Bunch(criterion='gini', splitter='best')\n",
    "dt = DecisionTreeClassifier(**dt_kwargs)\n",
    "dt.fit(X_train, y_train.flatten())\n",
    "acc, prec, rec, conf_mat = evaluate(preproc, dt, X_test, y_test)"
   ]
  },
  {
   "cell_type": "code",
   "execution_count": 49,
   "id": "objective-puppy",
   "metadata": {},
   "outputs": [
    {
     "name": "stdout",
     "output_type": "stream",
     "text": [
      "**************************************************\n",
      "Logistic Regression Model\n",
      "**************************************************\n",
      "------------------------------\n",
      "accuracy :0.841, precision:0.995, recall: 0.248\n",
      "confusion matrix\n",
      "------------------------------\n",
      "[[3188    1]\n",
      " [ 643  212]]\n",
      "------------------------------\n"
     ]
    }
   ],
   "source": [
    "##################################################################\n",
    "# Logistic Regression Model\n",
    "##################################################################\n",
    "from sklearn.linear_model import LogisticRegression\n",
    "print('*'*50)\n",
    "print('Logistic Regression Model')\n",
    "print('*'*50)\n",
    "\n",
    "logi_kwargs = Bunch(penalty='l1', solver='liblinear')\n",
    "logi = LogisticRegression(**logi_kwargs)\n",
    "logi.fit(X_train, y_train.flatten())\n",
    "acc, prec, rec, conf_mat = evaluate(preproc, logi, X_test, y_test)"
   ]
  },
  {
   "cell_type": "code",
   "execution_count": 50,
   "id": "brown-vienna",
   "metadata": {},
   "outputs": [
    {
     "name": "stdout",
     "output_type": "stream",
     "text": [
      "**************************************************\n",
      "RandomForestClassifier\n",
      "**************************************************\n",
      "------------------------------\n",
      "accuracy :0.841, precision:0.945, recall: 0.262\n",
      "confusion matrix\n",
      "------------------------------\n",
      "[[3176   13]\n",
      " [ 631  224]]\n",
      "------------------------------\n"
     ]
    }
   ],
   "source": [
    "##################################################################\n",
    "# RandomForestClassifier Model\n",
    "##################################################################\n",
    "from sklearn.ensemble import RandomForestClassifier\n",
    "print('*'*50)\n",
    "print('RandomForestClassifier')\n",
    "print('*'*50)\n",
    "\n",
    "rforest_kwargs = Bunch(n_estimators=200, criterion='entropy', max_depth=50, n_jobs=-1)\n",
    "rforest = RandomForestClassifier(**rforest_kwargs)\n",
    "rforest.fit(X_train, y_train.flatten())\n",
    "acc, prec, rec, conf_mat = evaluate(preproc, rforest, X_test, y_test)"
   ]
  },
  {
   "cell_type": "code",
   "execution_count": 51,
   "id": "sitting-identity",
   "metadata": {},
   "outputs": [
    {
     "name": "stdout",
     "output_type": "stream",
     "text": [
      "**************************************************\n",
      "Ensemble\n",
      "**************************************************\n",
      "------------------------------\n",
      "accuracy :0.854, precision:1.000, recall: 0.273, auc: 0.715\n",
      "confusion matrix\n",
      "------------------------------\n",
      "[[3230    0]\n",
      " [ 592  222]]\n",
      "------------------------------\n"
     ]
    }
   ],
   "source": [
    "##################################################################\n",
    "# Ensemble Model\n",
    "##################################################################\n",
    "from ensemble import Ensemble\n",
    "print('*'*50)\n",
    "print('Ensemble')\n",
    "print('*'*50)\n",
    "\n",
    "ens_clf = Ensemble(prerpoc_kwargs=preproc_kwargs,\n",
    "                   knn_kwargs=knn_kwargs,\n",
    "                   dt_kwargs=dt_kwargs,\n",
    "                   logi_kwargs=logi_kwargs,\n",
    "                   rforest_kwargs=rforest_kwargs)\n",
    "\n",
    "X_train, X_test, y_train, y_test = train_test_split(X, y, test_size=0.1, shuffle=True)\n",
    "\n",
    "ens_clf.fit(X_train, y_train)\n",
    "ens_clf.evaluate(X_test, y_test)"
   ]
  },
  {
   "cell_type": "code",
   "execution_count": 54,
   "id": "monthly-highlight",
   "metadata": {},
   "outputs": [
    {
     "name": "stdout",
     "output_type": "stream",
     "text": [
      "**************************************************\n",
      "NN Embedding Dense Model\n",
      "**************************************************\n"
     ]
    }
   ],
   "source": [
    "############################################################\n",
    "# TensorFlow model\n",
    "############################################################\n",
    "X_train, X_test, y_train, y_test = train_test_split(X, y, test_size=0.1, shuffle=True)\n",
    "print('*'*50)\n",
    "print('NN Embedding Dense Model')\n",
    "print('*'*50)\n",
    "\n",
    "preproc_kwargs = Bunch(x_num_idx=x_num_idx, use_feature_sel=False,\n",
    "                       use_cat=True, use_hot_enc=False,\n",
    "                       var_threshold=1.e-3, kbest_p_val_threshold=1.e-3)\n",
    "\n",
    "from emb_dense import EmbDense\n",
    "emden= EmbDense(prerpoc_kwargs = preproc_kwargs,dense_cells=[16, 8, 4])"
   ]
  },
  {
   "cell_type": "code",
   "execution_count": 58,
   "id": "labeled-envelope",
   "metadata": {},
   "outputs": [
    {
     "name": "stdout",
     "output_type": "stream",
     "text": [
      "n_cat->4, n_num->11, n_dim->15\n",
      "(None, 1)\n",
      "(None, 5)\n",
      "(None, 2)\n",
      "(None, 8)\n",
      "Epoch 1/20\n",
      "910/910 [==============================] - 2s 1ms/step - loss: 0.4703 - accuracy: 0.8308 - val_loss: 0.3966 - val_accuracy: 0.8423\n",
      "Epoch 2/20\n",
      "910/910 [==============================] - 1s 840us/step - loss: 0.3875 - accuracy: 0.8467 - val_loss: 0.3917 - val_accuracy: 0.8425\n",
      "Epoch 3/20\n",
      "910/910 [==============================] - 1s 850us/step - loss: 0.3775 - accuracy: 0.8528 - val_loss: 0.3902 - val_accuracy: 0.8427\n",
      "Epoch 4/20\n",
      "910/910 [==============================] - 1s 860us/step - loss: 0.3776 - accuracy: 0.8514 - val_loss: 0.3901 - val_accuracy: 0.8427\n",
      "Epoch 5/20\n",
      "910/910 [==============================] - 1s 846us/step - loss: 0.3824 - accuracy: 0.8475 - val_loss: 0.3885 - val_accuracy: 0.8427\n",
      "Epoch 6/20\n",
      "910/910 [==============================] - 1s 861us/step - loss: 0.3823 - accuracy: 0.8462 - val_loss: 0.3887 - val_accuracy: 0.8427\n",
      "Epoch 7/20\n",
      "910/910 [==============================] - 1s 858us/step - loss: 0.3784 - accuracy: 0.8500 - val_loss: 0.3911 - val_accuracy: 0.8428\n",
      "Epoch 8/20\n",
      "910/910 [==============================] - 1s 870us/step - loss: 0.3773 - accuracy: 0.8501 - val_loss: 0.3887 - val_accuracy: 0.8430\n",
      "Epoch 9/20\n",
      "910/910 [==============================] - 1s 862us/step - loss: 0.3758 - accuracy: 0.8514 - val_loss: 0.3906 - val_accuracy: 0.8425\n",
      "Epoch 10/20\n",
      "910/910 [==============================] - 1s 871us/step - loss: 0.3797 - accuracy: 0.8477 - val_loss: 0.3905 - val_accuracy: 0.8427\n",
      "Epoch 11/20\n",
      "910/910 [==============================] - 1s 874us/step - loss: 0.3793 - accuracy: 0.8487 - val_loss: 0.3913 - val_accuracy: 0.8427\n",
      "Epoch 12/20\n",
      "910/910 [==============================] - 1s 872us/step - loss: 0.3806 - accuracy: 0.8469 - val_loss: 0.3913 - val_accuracy: 0.8427\n",
      "Epoch 13/20\n",
      "910/910 [==============================] - 1s 871us/step - loss: 0.3762 - accuracy: 0.8500 - val_loss: 0.3924 - val_accuracy: 0.8428\n",
      "Epoch 14/20\n",
      "910/910 [==============================] - 1s 875us/step - loss: 0.3724 - accuracy: 0.8519 - val_loss: 0.3905 - val_accuracy: 0.8421\n",
      "Epoch 15/20\n",
      "910/910 [==============================] - 1s 865us/step - loss: 0.3754 - accuracy: 0.8506 - val_loss: 0.3906 - val_accuracy: 0.8424\n",
      "Epoch 16/20\n",
      "910/910 [==============================] - 1s 898us/step - loss: 0.3681 - accuracy: 0.8548 - val_loss: 0.3912 - val_accuracy: 0.8427\n",
      "Epoch 17/20\n",
      "910/910 [==============================] - 1s 884us/step - loss: 0.3780 - accuracy: 0.8477 - val_loss: 0.3930 - val_accuracy: 0.8416\n",
      "Epoch 18/20\n",
      "910/910 [==============================] - 1s 874us/step - loss: 0.3703 - accuracy: 0.8537 - val_loss: 0.3911 - val_accuracy: 0.8417\n",
      "Epoch 19/20\n",
      "910/910 [==============================] - 1s 885us/step - loss: 0.3763 - accuracy: 0.8497 - val_loss: 0.3922 - val_accuracy: 0.8413\n",
      "Epoch 20/20\n",
      "910/910 [==============================] - 1s 880us/step - loss: 0.3739 - accuracy: 0.8510 - val_loss: 0.3909 - val_accuracy: 0.8427\n"
     ]
    }
   ],
   "source": [
    "emden.fit(X_train,y_train, epochs = 20, validation_split =0.2)"
   ]
  },
  {
   "cell_type": "code",
   "execution_count": 59,
   "id": "announced-token",
   "metadata": {},
   "outputs": [
    {
     "name": "stdout",
     "output_type": "stream",
     "text": [
      "Model: \"model_1\"\n",
      "__________________________________________________________________________________________________\n",
      "Layer (type)                    Output Shape         Param #     Connected to                     \n",
      "==================================================================================================\n",
      "model_input (InputLayer)        [(None, 15)]         0                                            \n",
      "__________________________________________________________________________________________________\n",
      "tf.__operators__.getitem_7 (Sli (None, 4)            0           model_input[0][0]                \n",
      "__________________________________________________________________________________________________\n",
      "tf.__operators__.getitem_8 (Sli (None, 1)            0           tf.__operators__.getitem_7[0][0] \n",
      "__________________________________________________________________________________________________\n",
      "tf.__operators__.getitem_9 (Sli (None, 1)            0           tf.__operators__.getitem_7[0][0] \n",
      "__________________________________________________________________________________________________\n",
      "tf.__operators__.getitem_10 (Sl (None, 1)            0           tf.__operators__.getitem_7[0][0] \n",
      "__________________________________________________________________________________________________\n",
      "tf.__operators__.getitem_11 (Sl (None, 1)            0           tf.__operators__.getitem_7[0][0] \n",
      "__________________________________________________________________________________________________\n",
      "emb_0 (Embedding)               (None, 1, 1)         2           tf.__operators__.getitem_8[0][0] \n",
      "__________________________________________________________________________________________________\n",
      "emb_1 (Embedding)               (None, 1, 5)         55          tf.__operators__.getitem_9[0][0] \n",
      "__________________________________________________________________________________________________\n",
      "emb_2 (Embedding)               (None, 1, 2)         8           tf.__operators__.getitem_10[0][0]\n",
      "__________________________________________________________________________________________________\n",
      "emb_3 (Embedding)               (None, 1, 8)         128         tf.__operators__.getitem_11[0][0]\n",
      "__________________________________________________________________________________________________\n",
      "flatten_4 (Flatten)             (None, 1)            0           emb_0[0][0]                      \n",
      "__________________________________________________________________________________________________\n",
      "flatten_5 (Flatten)             (None, 5)            0           emb_1[0][0]                      \n",
      "__________________________________________________________________________________________________\n",
      "flatten_6 (Flatten)             (None, 2)            0           emb_2[0][0]                      \n",
      "__________________________________________________________________________________________________\n",
      "flatten_7 (Flatten)             (None, 8)            0           emb_3[0][0]                      \n",
      "__________________________________________________________________________________________________\n",
      "tf.__operators__.getitem_6 (Sli (None, 11)           0           model_input[0][0]                \n",
      "__________________________________________________________________________________________________\n",
      "cat_emb_concat (Concatenate)    (None, 16)           0           flatten_4[0][0]                  \n",
      "                                                                 flatten_5[0][0]                  \n",
      "                                                                 flatten_6[0][0]                  \n",
      "                                                                 flatten_7[0][0]                  \n",
      "__________________________________________________________________________________________________\n",
      "num_cat_emb_concat (Concatenate (None, 27)           0           tf.__operators__.getitem_6[0][0] \n",
      "                                                                 cat_emb_concat[0][0]             \n",
      "__________________________________________________________________________________________________\n",
      "dense_4 (Dense)                 (None, 16)           448         num_cat_emb_concat[0][0]         \n",
      "__________________________________________________________________________________________________\n",
      "dense_5 (Dense)                 (None, 8)            136         dense_4[0][0]                    \n",
      "__________________________________________________________________________________________________\n",
      "dense_6 (Dense)                 (None, 4)            36          dense_5[0][0]                    \n",
      "__________________________________________________________________________________________________\n",
      "dense_7 (Dense)                 (None, 1)            5           dense_6[0][0]                    \n",
      "==================================================================================================\n",
      "Total params: 818\n",
      "Trainable params: 818\n",
      "Non-trainable params: 0\n",
      "__________________________________________________________________________________________________\n"
     ]
    }
   ],
   "source": [
    "emden.summary()"
   ]
  },
  {
   "cell_type": "code",
   "execution_count": 60,
   "id": "commercial-heater",
   "metadata": {},
   "outputs": [
    {
     "data": {
      "image/png": "[encoded data removed]",
      "text/plain": [
       "<Figure size 432x288 with 1 Axes>"
      ]
     },
     "metadata": {
      "needs_background": "light"
     },
     "output_type": "display_data"
    }
   ],
   "source": [
    "emden.plot_history()"
   ]
  },
  {
   "cell_type": "code",
   "execution_count": 61,
   "id": "figured-shield",
   "metadata": {},
   "outputs": [
    {
     "name": "stdout",
     "output_type": "stream",
     "text": [
      "------------------------------\n",
      "accuracy :0.850, precision:0.974, recall: 0.270, auc: 0.768\n",
      "confusion matrix\n",
      "------------------------------\n",
      "[[3213    6]\n",
      " [ 602  223]]\n",
      "------------------------------\n"
     ]
    }
   ],
   "source": [
    "emden.evaluate(X_test, y_test)"
   ]
  },
  {
   "cell_type": "code",
   "execution_count": null,
   "id": "challenging-wilson",
   "metadata": {},
   "outputs": [],
   "source": []
  }
 ],
 "metadata": {
  "kernelspec": {
   "display_name": "mlbase",
   "language": "python",
   "name": ".venv"
  },
  "language_info": {
   "codemirror_mode": {
    "name": "ipython",
    "version": 3
   },
   "file_extension": ".py",
   "mimetype": "text/x-python",
   "name": "python",
   "nbconvert_exporter": "python",
   "pygments_lexer": "ipython3",
   "version": "3.9.19"
  }
 },
 "nbformat": 4,
 "nbformat_minor": 5
}
